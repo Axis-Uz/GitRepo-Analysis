{
 "cells": [
  {
   "cell_type": "code",
   "execution_count": 27,
   "metadata": {},
   "outputs": [],
   "source": [
    "import pandas as pd\n",
    "import numpy as np\n",
    "\n",
    "import seaborn as sns\n",
    "import matplotlib.pyplot as plt\n",
    "import plotly.express as px\n",
    "import plotly.graph_objects as go"
   ]
  },
  {
   "cell_type": "markdown",
   "metadata": {},
   "source": [
    "# Preparing Dataset\n",
    "\n",
    "(Skip, if not the first time)"
   ]
  },
  {
   "cell_type": "markdown",
   "metadata": {},
   "source": [
    "As the dataset is so huge, we won't work on the whole dataset for performance reason and will first work on samples of the data"
   ]
  },
  {
   "cell_type": "code",
   "execution_count": 2,
   "metadata": {},
   "outputs": [
    {
     "data": {
      "text/plain": [
       "(192060, 13)"
      ]
     },
     "execution_count": 2,
     "metadata": {},
     "output_type": "execute_result"
    }
   ],
   "source": [
    "data = pd.read_csv('./data/CleanGithubRepo_final.csv')\n",
    "data.shape"
   ]
  },
  {
   "cell_type": "markdown",
   "metadata": {},
   "source": [
    "## Creating a Popularity Score"
   ]
  },
  {
   "cell_type": "markdown",
   "metadata": {},
   "source": [
    "A Popular Repo will have the following features --\n",
    "\n",
    "- Increases Popularity\n",
    "  - Stars\n",
    "  - Forks\n",
    "  - Watching\n",
    "  - Downloads\n",
    "  - Discussions (Indicates an active community)\n",
    "\n",
    "- Decreases Popularity\n",
    "  - Issues\n",
    "\n",
    "- Not Necessary\n",
    "  - Number of Branches\n",
    "  - Pages\n",
    "  - Template\n",
    "\n",
    "- Improve QoL\n",
    "  - Wiki"
   ]
  },
  {
   "cell_type": "code",
   "execution_count": 4,
   "metadata": {},
   "outputs": [],
   "source": [
    "from sklearn.preprocessing import MinMaxScaler"
   ]
  },
  {
   "cell_type": "code",
   "execution_count": 19,
   "metadata": {},
   "outputs": [],
   "source": [
    "mss = MinMaxScaler(feature_range=(-10,10))\n",
    "ss_fit = mss.fit_transform(data[['Stars','Forks','Issues']])\n",
    "temp = pd.DataFrame(ss_fit,columns=['Stars','Forks','Issues'])"
   ]
  },
  {
   "cell_type": "code",
   "execution_count": 20,
   "metadata": {},
   "outputs": [],
   "source": [
    "data['popular_score'] = (temp['Stars']+temp['Forks']) / (1+temp['Issues'])"
   ]
  },
  {
   "cell_type": "code",
   "execution_count": 21,
   "metadata": {},
   "outputs": [
    {
     "data": {
      "text/html": [
       "<div>\n",
       "<style scoped>\n",
       "    .dataframe tbody tr th:only-of-type {\n",
       "        vertical-align: middle;\n",
       "    }\n",
       "\n",
       "    .dataframe tbody tr th {\n",
       "        vertical-align: top;\n",
       "    }\n",
       "\n",
       "    .dataframe thead th {\n",
       "        text-align: right;\n",
       "    }\n",
       "</style>\n",
       "<table border=\"1\" class=\"dataframe\">\n",
       "  <thead>\n",
       "    <tr style=\"text-align: right;\">\n",
       "      <th></th>\n",
       "      <th>popular_score</th>\n",
       "      <th>Stars</th>\n",
       "      <th>Forks</th>\n",
       "      <th>Issues</th>\n",
       "    </tr>\n",
       "  </thead>\n",
       "  <tbody>\n",
       "    <tr>\n",
       "      <th>105603</th>\n",
       "      <td>1.992349</td>\n",
       "      <td>341</td>\n",
       "      <td>91</td>\n",
       "      <td>9</td>\n",
       "    </tr>\n",
       "    <tr>\n",
       "      <th>19179</th>\n",
       "      <td>0.502069</td>\n",
       "      <td>1655</td>\n",
       "      <td>39</td>\n",
       "      <td>46</td>\n",
       "    </tr>\n",
       "    <tr>\n",
       "      <th>34250</th>\n",
       "      <td>0.132741</td>\n",
       "      <td>1159</td>\n",
       "      <td>141</td>\n",
       "      <td>54</td>\n",
       "    </tr>\n",
       "    <tr>\n",
       "      <th>130325</th>\n",
       "      <td>-0.498416</td>\n",
       "      <td>267</td>\n",
       "      <td>247</td>\n",
       "      <td>70</td>\n",
       "    </tr>\n",
       "    <tr>\n",
       "      <th>187167</th>\n",
       "      <td>2.125866</td>\n",
       "      <td>172</td>\n",
       "      <td>15</td>\n",
       "      <td>0</td>\n",
       "    </tr>\n",
       "    <tr>\n",
       "      <th>82667</th>\n",
       "      <td>1.257324</td>\n",
       "      <td>449</td>\n",
       "      <td>213</td>\n",
       "      <td>18</td>\n",
       "    </tr>\n",
       "    <tr>\n",
       "      <th>17383</th>\n",
       "      <td>1.818182</td>\n",
       "      <td>1655</td>\n",
       "      <td>375</td>\n",
       "      <td>70</td>\n",
       "    </tr>\n",
       "    <tr>\n",
       "      <th>78592</th>\n",
       "      <td>1.381493</td>\n",
       "      <td>476</td>\n",
       "      <td>64</td>\n",
       "      <td>0</td>\n",
       "    </tr>\n",
       "    <tr>\n",
       "      <th>78769</th>\n",
       "      <td>-1.097595</td>\n",
       "      <td>475</td>\n",
       "      <td>71</td>\n",
       "      <td>70</td>\n",
       "    </tr>\n",
       "    <tr>\n",
       "      <th>174133</th>\n",
       "      <td>4.780155</td>\n",
       "      <td>188</td>\n",
       "      <td>24</td>\n",
       "      <td>18</td>\n",
       "    </tr>\n",
       "  </tbody>\n",
       "</table>\n",
       "</div>"
      ],
      "text/plain": [
       "        popular_score  Stars  Forks  Issues\n",
       "105603       1.992349    341     91       9\n",
       "19179        0.502069   1655     39      46\n",
       "34250        0.132741   1159    141      54\n",
       "130325      -0.498416    267    247      70\n",
       "187167       2.125866    172     15       0\n",
       "82667        1.257324    449    213      18\n",
       "17383        1.818182   1655    375      70\n",
       "78592        1.381493    476     64       0\n",
       "78769       -1.097595    475     71      70\n",
       "174133       4.780155    188     24      18"
      ]
     },
     "execution_count": 21,
     "metadata": {},
     "output_type": "execute_result"
    }
   ],
   "source": [
    "data[['popular_score','Stars','Forks','Issues']].sort_values('popular_score').sample(10)"
   ]
  },
  {
   "cell_type": "code",
   "execution_count": 22,
   "metadata": {},
   "outputs": [
    {
     "data": {
      "text/plain": [
       "count    192060.000000\n",
       "mean          1.334073\n",
       "std          11.556620\n",
       "min        -140.000000\n",
       "25%           0.244851\n",
       "50%           1.813425\n",
       "75%           2.346275\n",
       "max         140.000000\n",
       "Name: popular_score, dtype: float64"
      ]
     },
     "execution_count": 22,
     "metadata": {},
     "output_type": "execute_result"
    }
   ],
   "source": [
    "data['popular_score'].describe()"
   ]
  },
  {
   "cell_type": "code",
   "execution_count": 23,
   "metadata": {},
   "outputs": [
    {
     "data": {
      "text/plain": [
       "<seaborn.axisgrid.FacetGrid at 0x24148504490>"
      ]
     },
     "execution_count": 23,
     "metadata": {},
     "output_type": "execute_result"
    },
    {
     "data": {
      "image/png": "[encoded data removed]",
      "text/plain": [
       "<Figure size 500x500 with 1 Axes>"
      ]
     },
     "metadata": {},
     "output_type": "display_data"
    }
   ],
   "source": [
    "sns.displot(data=data,x='popular_score',kind='kde')"
   ]
  },
  {
   "cell_type": "markdown",
   "metadata": {},
   "source": [
    "⚠️<span style=\"color:red\">**Warning: Takes Very Long Time ~20min** </span>"
   ]
  },
  {
   "cell_type": "code",
   "execution_count": null,
   "metadata": {},
   "outputs": [],
   "source": [
    "# for i,d in data.iterrows():\n",
    "#     if d['popular_score'] < data['popular_score'].median():\n",
    "#         data.at[i,'Popular'] = 0\n",
    "#     else:\n",
    "#         data.at[i,'Popular'] = 1\n",
    "#     print(i)"
   ]
  },
  {
   "cell_type": "code",
   "execution_count": 24,
   "metadata": {},
   "outputs": [
    {
     "data": {
      "application/vnd.plotly.v1+json": {
       "config": {
        "plotlyServerURL": "https://plot.ly"
       },
       "data": [
        {
         "coloraxis": "coloraxis",
         "hovertemplate": "x: %{x}<br>y: %{y}<br>color: %{z}<extra></extra>",
         "name": "0",
         "texttemplate": "%{z}",
         "type": "heatmap",
         "x": [
          "Popular",
          "popular_score",
          "Stars",
          "Forks",
          "Issues"
         ],
         "xaxis": "x",
         "y": [
          "Popular",
          "popular_score",
          "Stars",
          "Forks",
          "Issues"
         ],
         "yaxis": "y",
         "z": [
          [
           1,
           0.293109337321245,
           -0.2742650303942774,
           -0.30275665923618605,
           -0.15586376820686065
          ],
          [
           0.293109337321245,
           1,
           -0.06750570077048336,
           -0.06794245266188048,
           -0.042307419992081645
          ],
          [
           -0.2742650303942774,
           -0.06750570077048336,
           1,
           0.7201464403956394,
           0.4294483309406678
          ],
          [
           -0.30275665923618605,
           -0.06794245266188048,
           0.7201464403956394,
           1,
           0.4472441971087477
          ],
          [
           -0.15586376820686065,
           -0.042307419992081645,
           0.4294483309406678,
           0.4472441971087477,
           1
          ]
         ]
        }
       ],
       "layout": {
        "coloraxis": {
         "colorscale": [
          [
           0,
           "rgb(243, 224, 247)"
          ],
          [
           0.16666666666666666,
           "rgb(228, 199, 241)"
          ],
          [
           0.3333333333333333,
           "rgb(209, 175, 232)"
          ],
          [
           0.5,
           "rgb(185, 152, 221)"
          ],
          [
           0.6666666666666666,
           "rgb(159, 130, 206)"
          ],
          [
           0.8333333333333334,
           "rgb(130, 109, 186)"
          ],
          [
           1,
           "rgb(99, 88, 159)"
          ]
         ]
        },
        "margin": {
         "t": 60
        },
        "template": {
         "data": {
          "bar": [
           {
            "error_x": {
             "color": "#2a3f5f"
            },
            "error_y": {
             "color": "#2a3f5f"
            },
            "marker": {
             "line": {
              "color": "#E5ECF6",
              "width": 0.5
             },
             "pattern": {
              "fillmode": "overlay",
              "size": 10,
              "solidity": 0.2
             }
            },
            "type": "bar"
           }
          ],
          "barpolar": [
           {
            "marker": {
             "line": {
              "color": "#E5ECF6",
              "width": 0.5
             },
             "pattern": {
              "fillmode": "overlay",
              "size": 10,
              "solidity": 0.2
             }
            },
            "type": "barpolar"
           }
          ],
          "carpet": [
           {
            "aaxis": {
             "endlinecolor": "#2a3f5f",
             "gridcolor": "white",
             "linecolor": "white",
             "minorgridcolor": "white",
             "startlinecolor": "#2a3f5f"
            },
            "baxis": {
             "endlinecolor": "#2a3f5f",
             "gridcolor": "white",
             "linecolor": "white",
             "minorgridcolor": "white",
             "startlinecolor": "#2a3f5f"
            },
            "type": "carpet"
           }
          ],
          "choropleth": [
           {
            "colorbar": {
             "outlinewidth": 0,
             "ticks": ""
            },
            "type": "choropleth"
           }
          ],
          "contour": [
           {
            "colorbar": {
             "outlinewidth": 0,
             "ticks": ""
            },
            "colorscale": [
             [
              0,
              "#0d0887"
             ],
             [
              0.1111111111111111,
              "#46039f"
             ],
             [
              0.2222222222222222,
              "#7201a8"
             ],
             [
              0.3333333333333333,
              "#9c179e"
             ],
             [
              0.4444444444444444,
              "#bd3786"
             ],
             [
              0.5555555555555556,
              "#d8576b"
             ],
             [
              0.6666666666666666,
              "#ed7953"
             ],
             [
              0.7777777777777778,
              "#fb9f3a"
             ],
             [
              0.8888888888888888,
              "#fdca26"
             ],
             [
              1,
              "#f0f921"
             ]
            ],
            "type": "contour"
           }
          ],
          "contourcarpet": [
           {
            "colorbar": {
             "outlinewidth": 0,
             "ticks": ""
            },
            "type": "contourcarpet"
           }
          ],
          "heatmap": [
           {
            "colorbar": {
             "outlinewidth": 0,
             "ticks": ""
            },
            "colorscale": [
             [
              0,
              "#0d0887"
             ],
             [
              0.1111111111111111,
              "#46039f"
             ],
             [
              0.2222222222222222,
              "#7201a8"
             ],
             [
              0.3333333333333333,
              "#9c179e"
             ],
             [
              0.4444444444444444,
              "#bd3786"
             ],
             [
              0.5555555555555556,
              "#d8576b"
             ],
             [
              0.6666666666666666,
              "#ed7953"
             ],
             [
              0.7777777777777778,
              "#fb9f3a"
             ],
             [
              0.8888888888888888,
              "#fdca26"
             ],
             [
              1,
              "#f0f921"
             ]
            ],
            "type": "heatmap"
           }
          ],
          "heatmapgl": [
           {
            "colorbar": {
             "outlinewidth": 0,
             "ticks": ""
            },
            "colorscale": [
             [
              0,
              "#0d0887"
             ],
             [
              0.1111111111111111,
              "#46039f"
             ],
             [
              0.2222222222222222,
              "#7201a8"
             ],
             [
              0.3333333333333333,
              "#9c179e"
             ],
             [
              0.4444444444444444,
              "#bd3786"
             ],
             [
              0.5555555555555556,
              "#d8576b"
             ],
             [
              0.6666666666666666,
              "#ed7953"
             ],
             [
              0.7777777777777778,
              "#fb9f3a"
             ],
             [
              0.8888888888888888,
              "#fdca26"
             ],
             [
              1,
              "#f0f921"
             ]
            ],
            "type": "heatmapgl"
           }
          ],
          "histogram": [
           {
            "marker": {
             "pattern": {
              "fillmode": "overlay",
              "size": 10,
              "solidity": 0.2
             }
            },
            "type": "histogram"
           }
          ],
          "histogram2d": [
           {
            "colorbar": {
             "outlinewidth": 0,
             "ticks": ""
            },
            "colorscale": [
             [
              0,
              "#0d0887"
             ],
             [
              0.1111111111111111,
              "#46039f"
             ],
             [
              0.2222222222222222,
              "#7201a8"
             ],
             [
              0.3333333333333333,
              "#9c179e"
             ],
             [
              0.4444444444444444,
              "#bd3786"
             ],
             [
              0.5555555555555556,
              "#d8576b"
             ],
             [
              0.6666666666666666,
              "#ed7953"
             ],
             [
              0.7777777777777778,
              "#fb9f3a"
             ],
             [
              0.8888888888888888,
              "#fdca26"
             ],
             [
              1,
              "#f0f921"
             ]
            ],
            "type": "histogram2d"
           }
          ],
          "histogram2dcontour": [
           {
            "colorbar": {
             "outlinewidth": 0,
             "ticks": ""
            },
            "colorscale": [
             [
              0,
              "#0d0887"
             ],
             [
              0.1111111111111111,
              "#46039f"
             ],
             [
              0.2222222222222222,
              "#7201a8"
             ],
             [
              0.3333333333333333,
              "#9c179e"
             ],
             [
              0.4444444444444444,
              "#bd3786"
             ],
             [
              0.5555555555555556,
              "#d8576b"
             ],
             [
              0.6666666666666666,
              "#ed7953"
             ],
             [
              0.7777777777777778,
              "#fb9f3a"
             ],
             [
              0.8888888888888888,
              "#fdca26"
             ],
             [
              1,
              "#f0f921"
             ]
            ],
            "type": "histogram2dcontour"
           }
          ],
          "mesh3d": [
           {
            "colorbar": {
             "outlinewidth": 0,
             "ticks": ""
            },
            "type": "mesh3d"
           }
          ],
          "parcoords": [
           {
            "line": {
             "colorbar": {
              "outlinewidth": 0,
              "ticks": ""
             }
            },
            "type": "parcoords"
           }
          ],
          "pie": [
           {
            "automargin": true,
            "type": "pie"
           }
          ],
          "scatter": [
           {
            "fillpattern": {
             "fillmode": "overlay",
             "size": 10,
             "solidity": 0.2
            },
            "type": "scatter"
           }
          ],
          "scatter3d": [
           {
            "line": {
             "colorbar": {
              "outlinewidth": 0,
              "ticks": ""
             }
            },
            "marker": {
             "colorbar": {
              "outlinewidth": 0,
              "ticks": ""
             }
            },
            "type": "scatter3d"
           }
          ],
          "scattercarpet": [
           {
            "marker": {
             "colorbar": {
              "outlinewidth": 0,
              "ticks": ""
             }
            },
            "type": "scattercarpet"
           }
          ],
          "scattergeo": [
           {
            "marker": {
             "colorbar": {
              "outlinewidth": 0,
              "ticks": ""
             }
            },
            "type": "scattergeo"
           }
          ],
          "scattergl": [
           {
            "marker": {
             "colorbar": {
              "outlinewidth": 0,
              "ticks": ""
             }
            },
            "type": "scattergl"
           }
          ],
          "scattermapbox": [
           {
            "marker": {
             "colorbar": {
              "outlinewidth": 0,
              "ticks": ""
             }
            },
            "type": "scattermapbox"
           }
          ],
          "scatterpolar": [
           {
            "marker": {
             "colorbar": {
              "outlinewidth": 0,
              "ticks": ""
             }
            },
            "type": "scatterpolar"
           }
          ],
          "scatterpolargl": [
           {
            "marker": {
             "colorbar": {
              "outlinewidth": 0,
              "ticks": ""
             }
            },
            "type": "scatterpolargl"
           }
          ],
          "scatterternary": [
           {
            "marker": {
             "colorbar": {
              "outlinewidth": 0,
              "ticks": ""
             }
            },
            "type": "scatterternary"
           }
          ],
          "surface": [
           {
            "colorbar": {
             "outlinewidth": 0,
             "ticks": ""
            },
            "colorscale": [
             [
              0,
              "#0d0887"
             ],
             [
              0.1111111111111111,
              "#46039f"
             ],
             [
              0.2222222222222222,
              "#7201a8"
             ],
             [
              0.3333333333333333,
              "#9c179e"
             ],
             [
              0.4444444444444444,
              "#bd3786"
             ],
             [
              0.5555555555555556,
              "#d8576b"
             ],
             [
              0.6666666666666666,
              "#ed7953"
             ],
             [
              0.7777777777777778,
              "#fb9f3a"
             ],
             [
              0.8888888888888888,
              "#fdca26"
             ],
             [
              1,
              "#f0f921"
             ]
            ],
            "type": "surface"
           }
          ],
          "table": [
           {
            "cells": {
             "fill": {
              "color": "#EBF0F8"
             },
             "line": {
              "color": "white"
             }
            },
            "header": {
             "fill": {
              "color": "#C8D4E3"
             },
             "line": {
              "color": "white"
             }
            },
            "type": "table"
           }
          ]
         },
         "layout": {
          "annotationdefaults": {
           "arrowcolor": "#2a3f5f",
           "arrowhead": 0,
           "arrowwidth": 1
          },
          "autotypenumbers": "strict",
          "coloraxis": {
           "colorbar": {
            "outlinewidth": 0,
            "ticks": ""
           }
          },
          "colorscale": {
           "diverging": [
            [
             0,
             "#8e0152"
            ],
            [
             0.1,
             "#c51b7d"
            ],
            [
             0.2,
             "#de77ae"
            ],
            [
             0.3,
             "#f1b6da"
            ],
            [
             0.4,
             "#fde0ef"
            ],
            [
             0.5,
             "#f7f7f7"
            ],
            [
             0.6,
             "#e6f5d0"
            ],
            [
             0.7,
             "#b8e186"
            ],
            [
             0.8,
             "#7fbc41"
            ],
            [
             0.9,
             "#4d9221"
            ],
            [
             1,
             "#276419"
            ]
           ],
           "sequential": [
            [
             0,
             "#0d0887"
            ],
            [
             0.1111111111111111,
             "#46039f"
            ],
            [
             0.2222222222222222,
             "#7201a8"
            ],
            [
             0.3333333333333333,
             "#9c179e"
            ],
            [
             0.4444444444444444,
             "#bd3786"
            ],
            [
             0.5555555555555556,
             "#d8576b"
            ],
            [
             0.6666666666666666,
             "#ed7953"
            ],
            [
             0.7777777777777778,
             "#fb9f3a"
            ],
            [
             0.8888888888888888,
             "#fdca26"
            ],
            [
             1,
             "#f0f921"
            ]
           ],
           "sequentialminus": [
            [
             0,
             "#0d0887"
            ],
            [
             0.1111111111111111,
             "#46039f"
            ],
            [
             0.2222222222222222,
             "#7201a8"
            ],
            [
             0.3333333333333333,
             "#9c179e"
            ],
            [
             0.4444444444444444,
             "#bd3786"
            ],
            [
             0.5555555555555556,
             "#d8576b"
            ],
            [
             0.6666666666666666,
             "#ed7953"
            ],
            [
             0.7777777777777778,
             "#fb9f3a"
            ],
            [
             0.8888888888888888,
             "#fdca26"
            ],
            [
             1,
             "#f0f921"
            ]
           ]
          },
          "colorway": [
           "#636efa",
           "#EF553B",
           "#00cc96",
           "#ab63fa",
           "#FFA15A",
           "#19d3f3",
           "#FF6692",
           "#B6E880",
           "#FF97FF",
           "#FECB52"
          ],
          "font": {
           "color": "#2a3f5f"
          },
          "geo": {
           "bgcolor": "white",
           "lakecolor": "white",
           "landcolor": "#E5ECF6",
           "showlakes": true,
           "showland": true,
           "subunitcolor": "white"
          },
          "hoverlabel": {
           "align": "left"
          },
          "hovermode": "closest",
          "mapbox": {
           "style": "light"
          },
          "paper_bgcolor": "white",
          "plot_bgcolor": "#E5ECF6",
          "polar": {
           "angularaxis": {
            "gridcolor": "white",
            "linecolor": "white",
            "ticks": ""
           },
           "bgcolor": "#E5ECF6",
           "radialaxis": {
            "gridcolor": "white",
            "linecolor": "white",
            "ticks": ""
           }
          },
          "scene": {
           "xaxis": {
            "backgroundcolor": "#E5ECF6",
            "gridcolor": "white",
            "gridwidth": 2,
            "linecolor": "white",
            "showbackground": true,
            "ticks": "",
            "zerolinecolor": "white"
           },
           "yaxis": {
            "backgroundcolor": "#E5ECF6",
            "gridcolor": "white",
            "gridwidth": 2,
            "linecolor": "white",
            "showbackground": true,
            "ticks": "",
            "zerolinecolor": "white"
           },
           "zaxis": {
            "backgroundcolor": "#E5ECF6",
            "gridcolor": "white",
            "gridwidth": 2,
            "linecolor": "white",
            "showbackground": true,
            "ticks": "",
            "zerolinecolor": "white"
           }
          },
          "shapedefaults": {
           "line": {
            "color": "#2a3f5f"
           }
          },
          "ternary": {
           "aaxis": {
            "gridcolor": "white",
            "linecolor": "white",
            "ticks": ""
           },
           "baxis": {
            "gridcolor": "white",
            "linecolor": "white",
            "ticks": ""
           },
           "bgcolor": "#E5ECF6",
           "caxis": {
            "gridcolor": "white",
            "linecolor": "white",
            "ticks": ""
           }
          },
          "title": {
           "x": 0.05
          },
          "xaxis": {
           "automargin": true,
           "gridcolor": "white",
           "linecolor": "white",
           "ticks": "",
           "title": {
            "standoff": 15
           },
           "zerolinecolor": "white",
           "zerolinewidth": 2
          },
          "yaxis": {
           "automargin": true,
           "gridcolor": "white",
           "linecolor": "white",
           "ticks": "",
           "title": {
            "standoff": 15
           },
           "zerolinecolor": "white",
           "zerolinewidth": 2
          }
         }
        },
        "xaxis": {
         "anchor": "y",
         "domain": [
          0,
          1
         ]
        },
        "yaxis": {
         "anchor": "x",
         "autorange": "reversed",
         "domain": [
          0,
          1
         ]
        }
       }
      }
     },
     "metadata": {},
     "output_type": "display_data"
    }
   ],
   "source": [
    "corr_mat_int = data[['Popular','popular_score','Stars','Forks','Issues']].corr(method='pearson')\n",
    "px.imshow(\n",
    "    corr_mat_int,\n",
    "    text_auto=True,\n",
    "    aspect='auto',\n",
    "    color_continuous_scale='purp'\n",
    ")"
   ]
  },
  {
   "cell_type": "code",
   "execution_count": 17,
   "metadata": {},
   "outputs": [],
   "source": [
    "data.to_csv(\"./data/PreparedData.csv\",index=False)"
   ]
  },
  {
   "cell_type": "markdown",
   "metadata": {},
   "source": [
    "We will remove all the variable from runtime, since they are not need anymore"
   ]
  },
  {
   "cell_type": "code",
   "execution_count": 25,
   "metadata": {},
   "outputs": [],
   "source": [
    "%reset"
   ]
  },
  {
   "cell_type": "markdown",
   "metadata": {},
   "source": [
    "# Loading Prepared Dataset"
   ]
  },
  {
   "cell_type": "code",
   "execution_count": 37,
   "metadata": {},
   "outputs": [
    {
     "data": {
      "text/plain": [
       "((192060, 15), (48015, 15))"
      ]
     },
     "execution_count": 37,
     "metadata": {},
     "output_type": "execute_result"
    }
   ],
   "source": [
    "data = pd.read_csv(\"./data/PreparedData.csv\")\n",
    "df = data.sample(frac=.25,random_state=777)\n",
    "data.shape,df.shape"
   ]
  },
  {
   "cell_type": "code",
   "execution_count": 38,
   "metadata": {},
   "outputs": [
    {
     "name": "stdout",
     "output_type": "stream",
     "text": [
      "<class 'pandas.core.frame.DataFrame'>\n",
      "Index: 48015 entries, 151491 to 561\n",
      "Data columns (total 15 columns):\n",
      " #   Column          Non-Null Count  Dtype  \n",
      "---  ------          --------------  -----  \n",
      " 0   Size            48015 non-null  int64  \n",
      " 1   Stars           48015 non-null  int64  \n",
      " 2   Forks           48015 non-null  int64  \n",
      " 3   Issues          48015 non-null  int64  \n",
      " 4   HasIssues       48015 non-null  int64  \n",
      " 5   HasDownloads    48015 non-null  int64  \n",
      " 6   HasWiki         48015 non-null  int64  \n",
      " 7   HasPages        48015 non-null  int64  \n",
      " 8   HasDiscussions  48015 non-null  int64  \n",
      " 9   DescSize        48015 non-null  float64\n",
      " 10  Maintained      48015 non-null  int64  \n",
      " 11  Age             48015 non-null  int64  \n",
      " 12  IsPopularLang   48015 non-null  int64  \n",
      " 13  popular_score   48015 non-null  float64\n",
      " 14  Popular         48015 non-null  float64\n",
      "dtypes: float64(3), int64(12)\n",
      "memory usage: 5.9 MB\n"
     ]
    }
   ],
   "source": [
    "df.info()"
   ]
  },
  {
   "cell_type": "code",
   "execution_count": 39,
   "metadata": {},
   "outputs": [],
   "source": [
    "del data"
   ]
  },
  {
   "cell_type": "markdown",
   "metadata": {},
   "source": [
    "# Unsupervised: K-Means"
   ]
  },
  {
   "cell_type": "code",
   "execution_count": 33,
   "metadata": {},
   "outputs": [],
   "source": [
    "from sklearn.cluster import KMeans\n",
    "from sklearn.metrics import silhouette_score\n",
    "from sklearn.preprocessing import StandardScaler"
   ]
  },
  {
   "cell_type": "code",
   "execution_count": 41,
   "metadata": {},
   "outputs": [
    {
     "name": "stdout",
     "output_type": "stream",
     "text": [
      "Done K:  2\n",
      "Done K:  3\n",
      "Done K:  4\n",
      "Done K:  5\n"
     ]
    }
   ],
   "source": [
    "#! Takes Long Time\n",
    "interia, sil = [], []\n",
    "ssd = StandardScaler().fit_transform(df.drop(['Popular'],axis=1))\n",
    "for i in range(2,6):\n",
    "    km = KMeans(n_clusters=i)\n",
    "    km.fit(ssd)\n",
    "    interia.append(km.inertia_)\n",
    "    sil.append(silhouette_score(ssd,km.labels_))\n",
    "    print(\"Done K: \",i)"
   ]
  },
  {
   "cell_type": "code",
   "execution_count": 43,
   "metadata": {},
   "outputs": [
    {
     "data": {
      "text/plain": [
       "[<matplotlib.lines.Line2D at 0x2414f300410>]"
      ]
     },
     "execution_count": 43,
     "metadata": {},
     "output_type": "execute_result"
    },
    {
     "data": {
      "image/png": "[encoded data removed]",
      "text/plain": [
       "<Figure size 640x480 with 1 Axes>"
      ]
     },
     "metadata": {},
     "output_type": "display_data"
    }
   ],
   "source": [
    "plt.plot(range(2,6), interia, marker = 'o')"
   ]
  },
  {
   "cell_type": "code",
   "execution_count": 44,
   "metadata": {},
   "outputs": [
    {
     "data": {
      "text/plain": [
       "[<matplotlib.lines.Line2D at 0x2414f370350>]"
      ]
     },
     "execution_count": 44,
     "metadata": {},
     "output_type": "execute_result"
    },
    {
     "data": {
      "image/png": "[encoded data removed]",
      "text/plain": [
       "<Figure size 640x480 with 1 Axes>"
      ]
     },
     "metadata": {},
     "output_type": "display_data"
    }
   ],
   "source": [
    "plt.plot(range(2,6), sil, marker = 'o')"
   ]
  },
  {
   "cell_type": "code",
   "execution_count": 45,
   "metadata": {},
   "outputs": [],
   "source": [
    "km = KMeans(n_clusters=4)\n",
    "pred_km = km.fit_predict(ssd)\n"
   ]
  },
  {
   "cell_type": "code",
   "execution_count": 46,
   "metadata": {},
   "outputs": [
    {
     "data": {
      "text/plain": [
       "<matplotlib.collections.PathCollection at 0x2414f3870d0>"
      ]
     },
     "execution_count": 46,
     "metadata": {},
     "output_type": "execute_result"
    },
    {
     "data": {
      "image/png": "[encoded data removed]",
      "text/plain": [
       "<Figure size 640x480 with 1 Axes>"
      ]
     },
     "metadata": {},
     "output_type": "display_data"
    }
   ],
   "source": [
    "plt.scatter(df['Stars'],df['Forks'],c=pred_km)\n"
   ]
  },
  {
   "cell_type": "code",
   "execution_count": 47,
   "metadata": {},
   "outputs": [
    {
     "data": {
      "application/vnd.plotly.v1+json": {
       "config": {
        "plotlyServerURL": "https://plot.ly"
       },
       "data": [
        {
         "hovertemplate": "symbol=0<br>x=%{x}<br>y=%{y}<br>z=%{z}<br>color=%{marker.color}<extra></extra>",
         "legendgroup": "0",
         "marker": {
          "color": [
           0,
           0,
           0,
           0,
           0,
           0,
           0,
           0,
           0,
           0,
           0,
           0,
           0,
           0,
           0,
           0,
           0,
           0,
           0,
           0,
           0,
           0,
           0,
           0,
           0,
           0,
           0,
           0,
           0,
           0,
           0,
           0,
           0,
           0,
           0,
           0,
           0,
           0,
           0,
           0,
           0,
           0,
           0,
           0,
           0,
           0,
           0,
           0,
           0,
           0,
           0,
           0,
           0,
           0,
           0,
           0,
           0,
           0,
           0,
           0,
           0,
           0,
           0,
           0,
           0,
           0,
           0,
           0,
           0,
           0,
           0,
           0,
           0,
           0,
           0,
           0,
           0,
           0,
           0,
           0,
           0,
           0,
           0,
           0,
           0,
           0,
           0,
           0,
           0,
           0,
           0,
           0,
           0,
           0,
           0,
           0,
           0,
           0,
           0,
           0,
           0,
           0,
           0,
           0,
           0,
           0,
           0,
           0,
           0,
           0,
           0,
           0,
           0,
           0,
           0,
           0,
           0,
           0,
           0,
           0,
           0,
           0,
           0,
           0,
           0,
           0,
           0,
           0,
           0
          ],
          "coloraxis": "coloraxis",
          "opacity": 0.8,
          "symbol": "circle"
         },
         "mode": "markers",
         "name": "0",
         "scene": "scene",
         "showlegend": true,
         "type": "scatter3d",
         "x": [
          223,
          879,
          183,
          871,
          214,
          756,
          203,
          713,
          1120,
          223,
          934,
          451,
          432,
          312,
          1122,
          531,
          298,
          328,
          521,
          206,
          363,
          219,
          274,
          745,
          761,
          666,
          725,
          796,
          1072,
          598,
          670,
          346,
          288,
          231,
          430,
          284,
          189,
          714,
          322,
          462,
          384,
          1180,
          196,
          198,
          344,
          736,
          190,
          1304,
          304,
          1253,
          351,
          176,
          189,
          650,
          209,
          231,
          184,
          299,
          339,
          914,
          211,
          871,
          486,
          249,
          183,
          203,
          212,
          369,
          365,
          170,
          741,
          423,
          824,
          662,
          186,
          534,
          623,
          536,
          387,
          207,
          378,
          225,
          1048,
          569,
          610,
          1059,
          269,
          209,
          242,
          469,
          232,
          237,
          433,
          242,
          1153,
          910,
          507,
          224,
          808,
          1274,
          863,
          299,
          587,
          178,
          187,
          224,
          370,
          409,
          266,
          224,
          1195,
          201,
          289,
          1034,
          323,
          970,
          364,
          218,
          292,
          249,
          736,
          262,
          243,
          330,
          290,
          206,
          194,
          657,
          1248
         ],
         "y": [
          33,
          296,
          44,
          87,
          16,
          70,
          66,
          375,
          62,
          91,
          139,
          40,
          3,
          9,
          184,
          58,
          85,
          47,
          13,
          60,
          20,
          75,
          129,
          128,
          73,
          90,
          45,
          194,
          80,
          55,
          120,
          72,
          104,
          132,
          75,
          135,
          47,
          255,
          103,
          56,
          208,
          157,
          218,
          89,
          90,
          109,
          14,
          70,
          175,
          82,
          317,
          116,
          10,
          172,
          56,
          59,
          56,
          124,
          64,
          272,
          114,
          59,
          100,
          66,
          85,
          57,
          40,
          95,
          37,
          76,
          220,
          74,
          36,
          42,
          25,
          67,
          130,
          210,
          18,
          57,
          104,
          61,
          327,
          122,
          282,
          97,
          48,
          18,
          48,
          111,
          47,
          30,
          121,
          91,
          168,
          183,
          107,
          34,
          135,
          115,
          27,
          70,
          102,
          89,
          309,
          67,
          137,
          129,
          18,
          27,
          87,
          33,
          299,
          71,
          66,
          110,
          42,
          9,
          42,
          20,
          196,
          112,
          375,
          142,
          73,
          22,
          13,
          130,
          67
         ],
         "z": [
          70,
          25,
          1,
          70,
          3,
          70,
          48,
          7,
          27,
          70,
          29,
          12,
          0,
          2,
          7,
          4,
          7,
          70,
          22,
          6,
          12,
          4,
          21,
          14,
          60,
          4,
          2,
          70,
          6,
          5,
          57,
          23,
          11,
          11,
          11,
          70,
          62,
          5,
          51,
          17,
          29,
          38,
          55,
          57,
          17,
          70,
          20,
          33,
          70,
          24,
          14,
          9,
          0,
          1,
          70,
          1,
          8,
          1,
          17,
          1,
          9,
          5,
          3,
          1,
          1,
          18,
          2,
          10,
          5,
          10,
          0,
          8,
          22,
          37,
          2,
          20,
          42,
          0,
          8,
          1,
          11,
          54,
          23,
          12,
          34,
          3,
          9,
          2,
          12,
          37,
          10,
          2,
          7,
          2,
          3,
          10,
          70,
          15,
          4,
          21,
          4,
          70,
          9,
          70,
          0,
          31,
          19,
          65,
          4,
          1,
          70,
          17,
          22,
          10,
          17,
          9,
          70,
          63,
          8,
          24,
          0,
          40,
          26,
          2,
          0,
          6,
          5,
          8,
          17
         ]
        },
        {
         "hovertemplate": "symbol=2<br>x=%{x}<br>y=%{y}<br>z=%{z}<br>color=%{marker.color}<extra></extra>",
         "legendgroup": "2",
         "marker": {
          "color": [
           2,
           2,
           2,
           2,
           2,
           2,
           2,
           2,
           2,
           2,
           2,
           2,
           2,
           2,
           2,
           2,
           2,
           2,
           2,
           2,
           2,
           2,
           2,
           2,
           2,
           2,
           2,
           2,
           2,
           2,
           2,
           2,
           2,
           2,
           2,
           2,
           2,
           2,
           2,
           2,
           2,
           2,
           2,
           2,
           2,
           2,
           2,
           2,
           2,
           2,
           2,
           2,
           2,
           2,
           2,
           2,
           2,
           2,
           2,
           2,
           2,
           2,
           2,
           2,
           2,
           2,
           2,
           2,
           2,
           2,
           2,
           2,
           2,
           2,
           2,
           2,
           2,
           2,
           2,
           2,
           2,
           2,
           2,
           2,
           2,
           2,
           2,
           2,
           2,
           2,
           2,
           2,
           2,
           2,
           2,
           2,
           2,
           2,
           2,
           2,
           2,
           2,
           2,
           2,
           2,
           2,
           2,
           2,
           2,
           2,
           2,
           2,
           2,
           2,
           2,
           2,
           2,
           2,
           2,
           2,
           2,
           2,
           2,
           2,
           2,
           2,
           2,
           2,
           2,
           2,
           2,
           2,
           2,
           2,
           2,
           2,
           2,
           2,
           2,
           2,
           2,
           2,
           2,
           2,
           2,
           2,
           2,
           2,
           2,
           2,
           2,
           2,
           2,
           2
          ],
          "coloraxis": "coloraxis",
          "opacity": 0.8,
          "symbol": "diamond"
         },
         "mode": "markers",
         "name": "2",
         "scene": "scene",
         "showlegend": true,
         "type": "scatter3d",
         "x": [
          272,
          1655,
          246,
          407,
          378,
          315,
          402,
          1591,
          200,
          312,
          196,
          350,
          626,
          391,
          432,
          366,
          350,
          642,
          392,
          433,
          253,
          747,
          861,
          240,
          448,
          224,
          172,
          1655,
          480,
          236,
          765,
          191,
          189,
          274,
          246,
          676,
          765,
          645,
          211,
          211,
          486,
          221,
          788,
          167,
          610,
          634,
          202,
          237,
          468,
          660,
          586,
          404,
          212,
          177,
          625,
          534,
          431,
          557,
          221,
          425,
          431,
          424,
          240,
          415,
          905,
          362,
          361,
          201,
          204,
          206,
          357,
          700,
          798,
          399,
          234,
          399,
          182,
          984,
          244,
          312,
          238,
          1021,
          210,
          674,
          529,
          389,
          189,
          233,
          890,
          195,
          185,
          556,
          234,
          174,
          235,
          184,
          320,
          238,
          226,
          334,
          171,
          294,
          227,
          222,
          437,
          772,
          439,
          425,
          990,
          1655,
          272,
          912,
          477,
          1326,
          286,
          338,
          800,
          243,
          494,
          562,
          982,
          338,
          182,
          727,
          304,
          205,
          901,
          561,
          478,
          222,
          357,
          336,
          202,
          242,
          183,
          343,
          417,
          1161,
          221,
          1655,
          1655,
          216,
          345,
          691,
          281,
          251,
          268,
          290,
          411,
          773,
          564,
          281,
          1655,
          555
         ],
         "y": [
          152,
          107,
          49,
          27,
          56,
          266,
          110,
          128,
          32,
          53,
          35,
          17,
          147,
          63,
          78,
          150,
          9,
          116,
          62,
          140,
          29,
          23,
          94,
          20,
          92,
          46,
          27,
          91,
          151,
          11,
          93,
          23,
          20,
          17,
          142,
          59,
          89,
          174,
          29,
          81,
          30,
          22,
          79,
          18,
          77,
          93,
          115,
          299,
          59,
          234,
          213,
          31,
          53,
          41,
          84,
          65,
          57,
          43,
          108,
          61,
          52,
          49,
          25,
          316,
          236,
          279,
          140,
          62,
          10,
          16,
          286,
          70,
          48,
          119,
          23,
          25,
          44,
          318,
          111,
          133,
          24,
          182,
          86,
          28,
          86,
          49,
          58,
          42,
          112,
          156,
          25,
          166,
          48,
          22,
          125,
          72,
          20,
          30,
          13,
          14,
          9,
          240,
          74,
          26,
          23,
          224,
          3,
          39,
          134,
          136,
          33,
          65,
          43,
          53,
          42,
          23,
          329,
          59,
          118,
          56,
          127,
          68,
          81,
          137,
          73,
          21,
          62,
          172,
          111,
          41,
          66,
          19,
          53,
          19,
          63,
          30,
          46,
          276,
          112,
          375,
          285,
          76,
          16,
          156,
          27,
          101,
          34,
          64,
          36,
          170,
          162,
          25,
          210,
          50
         ],
         "z": [
          2,
          38,
          49,
          4,
          17,
          19,
          22,
          46,
          16,
          52,
          17,
          1,
          7,
          17,
          0,
          0,
          3,
          25,
          4,
          3,
          5,
          12,
          20,
          15,
          25,
          2,
          70,
          14,
          15,
          0,
          52,
          14,
          4,
          1,
          0,
          31,
          36,
          47,
          9,
          21,
          3,
          6,
          3,
          0,
          4,
          23,
          70,
          2,
          6,
          10,
          56,
          70,
          20,
          4,
          3,
          22,
          1,
          12,
          0,
          17,
          44,
          6,
          20,
          32,
          48,
          35,
          53,
          24,
          0,
          0,
          0,
          11,
          15,
          8,
          15,
          0,
          44,
          12,
          31,
          0,
          8,
          5,
          19,
          4,
          0,
          47,
          45,
          1,
          5,
          0,
          4,
          14,
          1,
          12,
          29,
          8,
          16,
          15,
          24,
          15,
          1,
          29,
          4,
          5,
          8,
          70,
          0,
          34,
          1,
          22,
          6,
          0,
          0,
          0,
          32,
          2,
          10,
          17,
          22,
          6,
          11,
          12,
          23,
          1,
          13,
          0,
          3,
          17,
          21,
          0,
          11,
          2,
          6,
          10,
          9,
          16,
          70,
          3,
          2,
          70,
          1,
          6,
          0,
          1,
          17,
          26,
          60,
          7,
          15,
          6,
          2,
          0,
          1,
          39
         ]
        },
        {
         "hovertemplate": "symbol=3<br>x=%{x}<br>y=%{y}<br>z=%{z}<br>color=%{marker.color}<extra></extra>",
         "legendgroup": "3",
         "marker": {
          "color": [
           3,
           3,
           3,
           3,
           3,
           3,
           3,
           3,
           3,
           3,
           3,
           3,
           3,
           3,
           3,
           3,
           3,
           3,
           3,
           3,
           3,
           3,
           3,
           3,
           3,
           3,
           3,
           3,
           3,
           3,
           3,
           3,
           3,
           3,
           3,
           3,
           3,
           3,
           3,
           3,
           3,
           3,
           3,
           3,
           3,
           3,
           3,
           3,
           3,
           3,
           3,
           3,
           3,
           3,
           3,
           3,
           3,
           3,
           3,
           3,
           3,
           3,
           3,
           3,
           3,
           3,
           3,
           3,
           3,
           3,
           3,
           3,
           3,
           3,
           3,
           3,
           3,
           3,
           3,
           3,
           3,
           3,
           3,
           3,
           3,
           3,
           3,
           3,
           3,
           3,
           3,
           3,
           3,
           3,
           3,
           3,
           3,
           3,
           3,
           3,
           3,
           3,
           3,
           3,
           3,
           3,
           3,
           3,
           3,
           3,
           3,
           3,
           3,
           3,
           3,
           3,
           3,
           3,
           3,
           3,
           3,
           3,
           3,
           3,
           3,
           3,
           3,
           3,
           3,
           3,
           3,
           3,
           3,
           3,
           3,
           3,
           3,
           3,
           3,
           3,
           3,
           3,
           3,
           3,
           3,
           3,
           3,
           3,
           3,
           3,
           3,
           3,
           3,
           3,
           3,
           3,
           3,
           3,
           3,
           3,
           3,
           3,
           3,
           3,
           3,
           3,
           3,
           3,
           3,
           3,
           3,
           3,
           3,
           3,
           3,
           3,
           3,
           3,
           3,
           3,
           3,
           3,
           3,
           3,
           3,
           3,
           3,
           3,
           3,
           3,
           3,
           3,
           3,
           3,
           3,
           3,
           3,
           3,
           3,
           3,
           3,
           3,
           3,
           3,
           3,
           3,
           3,
           3,
           3,
           3,
           3,
           3,
           3,
           3,
           3,
           3,
           3,
           3,
           3,
           3,
           3,
           3,
           3,
           3,
           3,
           3,
           3,
           3,
           3,
           3,
           3,
           3,
           3,
           3,
           3,
           3,
           3,
           3,
           3,
           3,
           3,
           3,
           3,
           3,
           3,
           3,
           3,
           3,
           3,
           3,
           3,
           3,
           3,
           3,
           3,
           3,
           3,
           3,
           3,
           3,
           3,
           3,
           3,
           3,
           3,
           3,
           3,
           3,
           3,
           3,
           3,
           3,
           3,
           3,
           3,
           3,
           3,
           3,
           3,
           3,
           3,
           3,
           3,
           3,
           3,
           3,
           3,
           3,
           3,
           3,
           3,
           3,
           3,
           3,
           3,
           3,
           3,
           3,
           3,
           3,
           3,
           3,
           3,
           3,
           3,
           3,
           3,
           3,
           3,
           3,
           3,
           3,
           3,
           3,
           3,
           3,
           3,
           3,
           3,
           3,
           3,
           3,
           3,
           3,
           3,
           3,
           3,
           3,
           3,
           3,
           3,
           3,
           3,
           3,
           3,
           3,
           3,
           3,
           3,
           3,
           3,
           3,
           3,
           3,
           3,
           3,
           3,
           3,
           3,
           3,
           3,
           3,
           3,
           3,
           3,
           3,
           3,
           3,
           3,
           3,
           3,
           3,
           3,
           3,
           3,
           3,
           3,
           3,
           3,
           3,
           3,
           3,
           3,
           3,
           3,
           3,
           3,
           3,
           3,
           3,
           3,
           3,
           3,
           3,
           3,
           3,
           3,
           3,
           3,
           3,
           3,
           3,
           3,
           3,
           3,
           3,
           3,
           3,
           3,
           3,
           3,
           3,
           3,
           3,
           3,
           3,
           3,
           3,
           3,
           3,
           3,
           3,
           3,
           3,
           3,
           3,
           3,
           3,
           3,
           3,
           3,
           3,
           3,
           3,
           3,
           3,
           3,
           3,
           3,
           3,
           3,
           3,
           3,
           3,
           3,
           3,
           3,
           3,
           3,
           3,
           3,
           3,
           3,
           3,
           3,
           3,
           3,
           3,
           3,
           3,
           3,
           3,
           3,
           3,
           3,
           3,
           3,
           3,
           3,
           3,
           3,
           3,
           3,
           3,
           3,
           3,
           3,
           3,
           3,
           3,
           3,
           3,
           3,
           3,
           3,
           3,
           3,
           3,
           3,
           3,
           3,
           3,
           3,
           3,
           3,
           3,
           3,
           3,
           3,
           3,
           3,
           3,
           3,
           3,
           3,
           3,
           3,
           3,
           3,
           3,
           3,
           3,
           3,
           3,
           3,
           3,
           3,
           3,
           3,
           3,
           3,
           3,
           3,
           3,
           3,
           3,
           3,
           3
          ],
          "coloraxis": "coloraxis",
          "opacity": 0.8,
          "symbol": "square"
         },
         "mode": "markers",
         "name": "3",
         "scene": "scene",
         "showlegend": true,
         "type": "scatter3d",
         "x": [
          265,
          434,
          196,
          266,
          620,
          214,
          218,
          244,
          342,
          576,
          190,
          202,
          1527,
          312,
          636,
          382,
          210,
          404,
          433,
          261,
          383,
          175,
          168,
          786,
          210,
          782,
          475,
          356,
          351,
          331,
          325,
          670,
          387,
          501,
          611,
          390,
          170,
          475,
          172,
          982,
          1071,
          181,
          388,
          190,
          188,
          171,
          223,
          179,
          341,
          175,
          355,
          349,
          233,
          317,
          421,
          1426,
          274,
          342,
          362,
          780,
          242,
          173,
          226,
          700,
          182,
          730,
          325,
          247,
          310,
          341,
          173,
          844,
          224,
          248,
          267,
          189,
          580,
          244,
          309,
          190,
          752,
          744,
          707,
          242,
          196,
          473,
          464,
          234,
          273,
          344,
          242,
          241,
          535,
          679,
          495,
          276,
          573,
          178,
          220,
          192,
          322,
          431,
          173,
          443,
          189,
          662,
          546,
          198,
          485,
          381,
          830,
          1007,
          669,
          994,
          250,
          373,
          346,
          1296,
          288,
          215,
          963,
          225,
          182,
          178,
          252,
          200,
          253,
          1412,
          337,
          857,
          180,
          194,
          505,
          216,
          762,
          474,
          464,
          606,
          321,
          231,
          282,
          216,
          597,
          602,
          788,
          397,
          440,
          282,
          192,
          190,
          208,
          350,
          204,
          177,
          838,
          176,
          434,
          526,
          684,
          456,
          1152,
          422,
          252,
          371,
          243,
          187,
          270,
          299,
          192,
          213,
          264,
          327,
          184,
          589,
          205,
          893,
          290,
          393,
          248,
          646,
          172,
          205,
          177,
          185,
          228,
          265,
          181,
          214,
          1426,
          352,
          454,
          227,
          363,
          179,
          214,
          879,
          258,
          313,
          426,
          185,
          290,
          173,
          806,
          211,
          176,
          376,
          289,
          798,
          536,
          1152,
          382,
          1025,
          203,
          263,
          1655,
          192,
          264,
          279,
          244,
          256,
          378,
          495,
          206,
          358,
          217,
          246,
          170,
          1227,
          198,
          352,
          621,
          271,
          191,
          1072,
          928,
          232,
          318,
          193,
          671,
          384,
          203,
          418,
          233,
          490,
          827,
          169,
          293,
          174,
          247,
          623,
          1655,
          594,
          366,
          980,
          289,
          304,
          386,
          573,
          232,
          1655,
          182,
          322,
          510,
          268,
          354,
          358,
          221,
          891,
          396,
          1107,
          1396,
          1655,
          266,
          170,
          663,
          246,
          368,
          174,
          167,
          273,
          372,
          176,
          284,
          236,
          731,
          245,
          321,
          181,
          265,
          500,
          181,
          208,
          658,
          223,
          394,
          833,
          208,
          553,
          256,
          174,
          206,
          409,
          213,
          199,
          211,
          691,
          195,
          179,
          230,
          344,
          990,
          184,
          271,
          291,
          225,
          303,
          259,
          286,
          235,
          284,
          607,
          194,
          499,
          469,
          777,
          212,
          661,
          656,
          415,
          315,
          532,
          314,
          287,
          216,
          692,
          415,
          290,
          184,
          194,
          362,
          279,
          298,
          171,
          180,
          185,
          317,
          210,
          358,
          243,
          267,
          486,
          231,
          219,
          486,
          921,
          842,
          215,
          1365,
          171,
          184,
          204,
          175,
          201,
          306,
          459,
          247,
          555,
          280,
          632,
          367,
          230,
          514,
          293,
          271,
          736,
          183,
          181,
          780,
          220,
          197,
          266,
          181,
          277,
          177,
          215,
          306,
          208,
          284,
          211,
          303,
          184,
          729,
          174,
          214,
          256,
          221,
          175,
          306,
          375,
          736,
          815,
          1167,
          1021,
          179,
          428,
          328,
          454,
          472,
          364,
          349,
          492,
          884,
          235,
          202,
          635,
          491,
          298,
          207,
          210,
          207,
          492,
          239,
          276,
          299,
          339,
          933,
          234,
          783,
          341,
          492,
          1402,
          369,
          215,
          214,
          282,
          283,
          602,
          203,
          206,
          245,
          193,
          884,
          242,
          629,
          172,
          508,
          566,
          232,
          801,
          707,
          636,
          299,
          222,
          407,
          196,
          255,
          282,
          172,
          237,
          403,
          199,
          182,
          456,
          474,
          452,
          479,
          211,
          484,
          177,
          281,
          282,
          549,
          246,
          235,
          466,
          922,
          221,
          496,
          175,
          378,
          413,
          616,
          215,
          542,
          627,
          273,
          701,
          212,
          811,
          271,
          188,
          362,
          233,
          570,
          537,
          175,
          1443,
          253,
          217,
          335,
          214,
          395,
          187,
          293,
          203,
          191,
          248,
          192,
          325,
          179,
          746,
          529,
          269,
          301,
          320,
          276,
          1085,
          323
         ],
         "y": [
          77,
          65,
          24,
          14,
          201,
          48,
          46,
          55,
          46,
          162,
          35,
          41,
          71,
          27,
          217,
          38,
          18,
          61,
          94,
          40,
          68,
          31,
          16,
          22,
          88,
          95,
          86,
          209,
          86,
          33,
          7,
          125,
          139,
          180,
          311,
          38,
          19,
          114,
          29,
          188,
          200,
          43,
          108,
          53,
          12,
          29,
          37,
          43,
          25,
          27,
          227,
          62,
          141,
          56,
          315,
          126,
          73,
          88,
          95,
          219,
          26,
          61,
          33,
          63,
          57,
          30,
          166,
          38,
          24,
          375,
          25,
          70,
          26,
          38,
          88,
          18,
          63,
          17,
          70,
          87,
          110,
          22,
          100,
          50,
          16,
          44,
          228,
          104,
          2,
          97,
          39,
          176,
          122,
          110,
          51,
          65,
          121,
          20,
          147,
          122,
          103,
          231,
          16,
          19,
          149,
          198,
          41,
          34,
          33,
          375,
          99,
          73,
          102,
          29,
          33,
          375,
          55,
          42,
          63,
          40,
          74,
          38,
          33,
          15,
          32,
          37,
          33,
          204,
          157,
          98,
          48,
          21,
          9,
          12,
          224,
          100,
          59,
          111,
          14,
          4,
          39,
          31,
          69,
          125,
          78,
          53,
          55,
          36,
          56,
          96,
          30,
          113,
          18,
          7,
          150,
          62,
          44,
          30,
          68,
          33,
          137,
          73,
          33,
          51,
          95,
          29,
          53,
          43,
          29,
          35,
          42,
          31,
          21,
          180,
          95,
          274,
          109,
          136,
          63,
          33,
          25,
          42,
          54,
          43,
          44,
          51,
          118,
          29,
          142,
          53,
          103,
          35,
          181,
          123,
          41,
          62,
          45,
          85,
          375,
          7,
          234,
          59,
          110,
          52,
          18,
          52,
          11,
          80,
          146,
          130,
          163,
          78,
          9,
          57,
          122,
          44,
          125,
          83,
          20,
          49,
          107,
          102,
          36,
          35,
          45,
          60,
          42,
          165,
          18,
          61,
          141,
          119,
          20,
          39,
          85,
          54,
          16,
          70,
          97,
          15,
          300,
          58,
          34,
          150,
          105,
          30,
          17,
          20,
          78,
          64,
          74,
          170,
          170,
          77,
          85,
          23,
          23,
          40,
          69,
          55,
          44,
          63,
          23,
          43,
          61,
          30,
          99,
          131,
          16,
          56,
          103,
          70,
          136,
          57,
          147,
          46,
          65,
          22,
          103,
          33,
          91,
          8,
          33,
          91,
          41,
          65,
          143,
          17,
          40,
          22,
          33,
          48,
          111,
          39,
          39,
          149,
          60,
          175,
          26,
          58,
          49,
          113,
          18,
          33,
          21,
          90,
          13,
          33,
          6,
          89,
          76,
          49,
          92,
          90,
          40,
          104,
          34,
          36,
          30,
          126,
          154,
          49,
          122,
          218,
          151,
          7,
          88,
          43,
          231,
          68,
          94,
          30,
          29,
          11,
          37,
          91,
          24,
          55,
          60,
          93,
          19,
          135,
          82,
          75,
          149,
          70,
          375,
          33,
          63,
          57,
          106,
          158,
          68,
          132,
          116,
          51,
          42,
          147,
          18,
          25,
          84,
          20,
          13,
          24,
          39,
          41,
          79,
          21,
          117,
          25,
          7,
          117,
          50,
          33,
          116,
          58,
          45,
          150,
          20,
          17,
          175,
          75,
          13,
          44,
          21,
          129,
          12,
          57,
          62,
          37,
          35,
          156,
          35,
          34,
          55,
          34,
          81,
          99,
          10,
          131,
          47,
          218,
          69,
          56,
          51,
          25,
          81,
          10,
          97,
          44,
          110,
          53,
          78,
          64,
          244,
          107,
          67,
          31,
          35,
          40,
          72,
          46,
          54,
          44,
          8,
          38,
          35,
          317,
          70,
          79,
          98,
          69,
          21,
          40,
          28,
          139,
          88,
          37,
          34,
          61,
          206,
          178,
          4,
          92,
          67,
          127,
          92,
          60,
          128,
          149,
          58,
          57,
          30,
          41,
          58,
          14,
          42,
          55,
          6,
          71,
          8,
          53,
          56,
          36,
          147,
          5,
          50,
          19,
          36,
          33,
          57,
          48,
          71,
          30,
          19,
          241,
          28,
          185,
          59,
          56,
          21,
          176,
          33,
          19,
          31,
          67,
          39,
          31,
          49,
          92,
          78,
          43,
          207,
          48,
          139,
          27,
          173,
          46,
          73,
          55,
          18,
          160,
          31,
          118,
          15,
          31,
          12,
          40,
          19,
          83,
          54,
          141,
          67,
          92,
          3,
          42,
          282,
          156
         ],
         "z": [
          5,
          9,
          0,
          2,
          33,
          14,
          11,
          5,
          8,
          42,
          1,
          6,
          8,
          2,
          13,
          33,
          19,
          2,
          44,
          0,
          23,
          6,
          0,
          29,
          4,
          1,
          19,
          13,
          18,
          9,
          2,
          6,
          0,
          12,
          7,
          0,
          2,
          1,
          0,
          10,
          4,
          7,
          5,
          30,
          23,
          70,
          23,
          11,
          3,
          4,
          0,
          42,
          9,
          2,
          20,
          12,
          7,
          8,
          3,
          9,
          0,
          29,
          2,
          0,
          17,
          3,
          58,
          47,
          68,
          11,
          0,
          13,
          0,
          1,
          5,
          23,
          70,
          22,
          11,
          33,
          3,
          24,
          7,
          13,
          14,
          4,
          0,
          4,
          15,
          9,
          0,
          4,
          28,
          3,
          12,
          2,
          3,
          10,
          2,
          8,
          2,
          23,
          6,
          4,
          3,
          15,
          10,
          17,
          0,
          11,
          32,
          41,
          1,
          27,
          12,
          12,
          37,
          8,
          9,
          13,
          11,
          0,
          0,
          2,
          5,
          10,
          2,
          14,
          1,
          10,
          0,
          0,
          16,
          6,
          36,
          18,
          1,
          16,
          17,
          8,
          36,
          5,
          26,
          0,
          24,
          41,
          0,
          4,
          0,
          0,
          1,
          2,
          31,
          5,
          18,
          4,
          17,
          19,
          13,
          12,
          44,
          2,
          3,
          1,
          8,
          4,
          70,
          3,
          17,
          2,
          7,
          20,
          4,
          0,
          0,
          8,
          52,
          2,
          11,
          1,
          43,
          27,
          2,
          15,
          19,
          2,
          57,
          7,
          0,
          7,
          19,
          7,
          29,
          40,
          0,
          7,
          9,
          12,
          15,
          3,
          7,
          10,
          18,
          14,
          28,
          19,
          0,
          0,
          70,
          15,
          0,
          25,
          1,
          4,
          2,
          24,
          43,
          7,
          4,
          13,
          32,
          16,
          2,
          27,
          5,
          8,
          5,
          9,
          0,
          18,
          2,
          8,
          4,
          0,
          1,
          4,
          10,
          0,
          25,
          2,
          4,
          10,
          1,
          15,
          3,
          0,
          0,
          0,
          7,
          16,
          7,
          11,
          29,
          17,
          29,
          7,
          8,
          5,
          20,
          15,
          22,
          5,
          21,
          15,
          19,
          2,
          5,
          9,
          70,
          22,
          29,
          0,
          5,
          8,
          8,
          57,
          0,
          16,
          8,
          1,
          2,
          1,
          12,
          17,
          11,
          3,
          0,
          1,
          10,
          10,
          0,
          5,
          49,
          0,
          3,
          22,
          22,
          0,
          13,
          7,
          0,
          37,
          3,
          23,
          3,
          31,
          13,
          2,
          8,
          3,
          70,
          0,
          2,
          15,
          11,
          26,
          5,
          14,
          2,
          16,
          18,
          3,
          24,
          13,
          27,
          0,
          10,
          26,
          0,
          1,
          0,
          4,
          0,
          7,
          40,
          32,
          5,
          12,
          0,
          6,
          6,
          0,
          0,
          1,
          21,
          3,
          1,
          4,
          61,
          33,
          17,
          18,
          10,
          21,
          46,
          0,
          7,
          6,
          3,
          2,
          18,
          8,
          8,
          57,
          16,
          5,
          0,
          3,
          1,
          13,
          3,
          10,
          27,
          11,
          1,
          9,
          17,
          25,
          6,
          28,
          29,
          16,
          1,
          5,
          20,
          38,
          0,
          2,
          3,
          0,
          6,
          41,
          0,
          23,
          4,
          19,
          4,
          45,
          13,
          26,
          17,
          1,
          8,
          2,
          49,
          4,
          0,
          2,
          0,
          0,
          14,
          16,
          23,
          39,
          16,
          60,
          4,
          0,
          2,
          8,
          7,
          1,
          19,
          1,
          3,
          12,
          0,
          9,
          35,
          0,
          2,
          31,
          6,
          1,
          4,
          6,
          15,
          3,
          6,
          3,
          29,
          12,
          9,
          3,
          2,
          3,
          0,
          6,
          12,
          5,
          27,
          2,
          1,
          4,
          4,
          39,
          1,
          23,
          3,
          5,
          0,
          23,
          1,
          3,
          26,
          2,
          1,
          3,
          0,
          11,
          13,
          3,
          1,
          2,
          9,
          4,
          0,
          12,
          4,
          26,
          26,
          17,
          0,
          20,
          3,
          4,
          17,
          2,
          0,
          3,
          17,
          16,
          0,
          3,
          8,
          3,
          13,
          14,
          1,
          2,
          2,
          1,
          2,
          8,
          1,
          5,
          20,
          1,
          3,
          10,
          14,
          17,
          0,
          4,
          1,
          14,
          4,
          16
         ]
        },
        {
         "hovertemplate": "symbol=1<br>x=%{x}<br>y=%{y}<br>z=%{z}<br>color=%{marker.color}<extra></extra>",
         "legendgroup": "1",
         "marker": {
          "color": [
           1,
           1,
           1,
           1,
           1,
           1,
           1,
           1,
           1,
           1,
           1,
           1,
           1,
           1,
           1,
           1,
           1,
           1,
           1,
           1,
           1,
           1,
           1,
           1,
           1,
           1,
           1,
           1,
           1,
           1,
           1,
           1,
           1,
           1,
           1,
           1,
           1,
           1,
           1,
           1,
           1,
           1,
           1,
           1,
           1,
           1,
           1,
           1,
           1,
           1,
           1,
           1,
           1,
           1,
           1,
           1,
           1,
           1,
           1,
           1,
           1,
           1,
           1,
           1,
           1,
           1,
           1,
           1,
           1,
           1,
           1,
           1,
           1,
           1,
           1,
           1,
           1,
           1,
           1,
           1,
           1,
           1,
           1,
           1,
           1,
           1,
           1,
           1,
           1,
           1,
           1,
           1,
           1,
           1,
           1,
           1,
           1,
           1,
           1,
           1,
           1,
           1,
           1,
           1,
           1,
           1,
           1,
           1,
           1,
           1,
           1,
           1,
           1,
           1,
           1,
           1,
           1,
           1,
           1,
           1,
           1,
           1,
           1,
           1,
           1,
           1,
           1,
           1,
           1,
           1,
           1,
           1,
           1,
           1,
           1,
           1,
           1,
           1,
           1,
           1,
           1,
           1,
           1,
           1,
           1,
           1,
           1,
           1,
           1,
           1,
           1,
           1,
           1,
           1,
           1,
           1,
           1,
           1,
           1,
           1,
           1,
           1,
           1,
           1,
           1,
           1,
           1,
           1,
           1,
           1,
           1,
           1,
           1,
           1,
           1,
           1,
           1,
           1,
           1,
           1,
           1,
           1,
           1,
           1,
           1,
           1,
           1,
           1,
           1,
           1,
           1,
           1,
           1,
           1,
           1,
           1,
           1,
           1,
           1
          ],
          "coloraxis": "coloraxis",
          "opacity": 0.8,
          "symbol": "x"
         },
         "mode": "markers",
         "name": "1",
         "scene": "scene",
         "showlegend": true,
         "type": "scatter3d",
         "x": [
          1655,
          1655,
          1197,
          1655,
          1655,
          1655,
          1655,
          1655,
          1078,
          1655,
          1655,
          1655,
          1655,
          1655,
          1655,
          1396,
          1352,
          1033,
          1655,
          1655,
          1655,
          1655,
          998,
          1655,
          586,
          1655,
          1655,
          1655,
          1655,
          1226,
          1655,
          1095,
          1655,
          862,
          1655,
          1655,
          485,
          1655,
          1655,
          1655,
          1655,
          1655,
          1048,
          1297,
          1655,
          1428,
          1292,
          1540,
          1135,
          1655,
          1543,
          1655,
          1655,
          1378,
          1655,
          1655,
          1099,
          1655,
          1655,
          1177,
          1655,
          907,
          1655,
          843,
          1655,
          1655,
          1655,
          1655,
          1655,
          1655,
          1655,
          1655,
          1234,
          805,
          1601,
          1655,
          1655,
          1394,
          1655,
          1655,
          1655,
          1655,
          582,
          1540,
          1655,
          1655,
          1655,
          1655,
          1655,
          1091,
          1655,
          1655,
          1325,
          840,
          415,
          1655,
          1343,
          1655,
          1120,
          211,
          1655,
          1272,
          439,
          1456,
          402,
          1172,
          972,
          1455,
          863,
          1655,
          1655,
          1613,
          1655,
          1655,
          1655,
          1608,
          1655,
          884,
          1655,
          1206,
          1541,
          1655,
          631,
          1039,
          1655,
          1655,
          552,
          1655,
          883,
          1655,
          1522,
          1655,
          1655,
          1655,
          1357,
          1655,
          1655,
          1605,
          1404,
          1655,
          1655,
          921,
          1347,
          1655,
          1655,
          1655,
          1655,
          1655,
          1333,
          1655,
          1655,
          1655,
          1095,
          1655,
          1049,
          1458,
          360,
          1123,
          856,
          1655,
          960,
          747,
          1655,
          1655,
          666,
          748,
          1655,
          1655,
          1387,
          1655,
          1655,
          1655,
          1655,
          957,
          1217,
          1655,
          1655,
          514,
          448,
          740,
          1655,
          1486,
          1655,
          1363,
          750,
          1655,
          748,
          1655,
          1071,
          1655,
          1655,
          540,
          1655,
          1655,
          1655,
          1655,
          1655,
          1655,
          1655
         ],
         "y": [
          375,
          283,
          231,
          375,
          244,
          335,
          375,
          290,
          297,
          375,
          375,
          267,
          375,
          349,
          375,
          318,
          279,
          375,
          375,
          375,
          375,
          187,
          375,
          210,
          342,
          184,
          328,
          314,
          219,
          184,
          360,
          136,
          375,
          128,
          375,
          375,
          165,
          375,
          375,
          163,
          375,
          375,
          74,
          161,
          375,
          375,
          375,
          375,
          375,
          292,
          287,
          112,
          84,
          209,
          375,
          216,
          375,
          375,
          375,
          191,
          375,
          134,
          375,
          359,
          375,
          137,
          375,
          375,
          375,
          375,
          375,
          375,
          375,
          114,
          375,
          375,
          231,
          252,
          375,
          165,
          258,
          375,
          315,
          72,
          375,
          375,
          375,
          375,
          254,
          201,
          375,
          152,
          339,
          237,
          375,
          375,
          375,
          375,
          246,
          375,
          375,
          276,
          283,
          135,
          330,
          192,
          375,
          290,
          278,
          375,
          227,
          375,
          375,
          375,
          312,
          375,
          272,
          331,
          375,
          284,
          153,
          375,
          375,
          278,
          178,
          375,
          327,
          375,
          269,
          149,
          185,
          375,
          135,
          375,
          160,
          99,
          187,
          175,
          375,
          375,
          375,
          354,
          135,
          375,
          150,
          308,
          375,
          110,
          320,
          375,
          375,
          375,
          55,
          375,
          286,
          375,
          281,
          297,
          375,
          375,
          375,
          375,
          375,
          64,
          221,
          338,
          375,
          375,
          177,
          375,
          375,
          375,
          375,
          331,
          176,
          119,
          375,
          236,
          292,
          143,
          211,
          375,
          375,
          315,
          375,
          375,
          375,
          285,
          307,
          375,
          375,
          293,
          375,
          375,
          155,
          375,
          345,
          375,
          375
         ],
         "z": [
          38,
          70,
          70,
          51,
          10,
          4,
          29,
          0,
          2,
          70,
          19,
          52,
          70,
          54,
          30,
          56,
          36,
          70,
          63,
          70,
          54,
          61,
          57,
          70,
          70,
          70,
          7,
          70,
          12,
          44,
          34,
          70,
          70,
          51,
          70,
          70,
          70,
          70,
          65,
          0,
          40,
          70,
          70,
          66,
          43,
          51,
          1,
          70,
          28,
          8,
          36,
          19,
          51,
          14,
          1,
          20,
          0,
          70,
          70,
          2,
          70,
          70,
          1,
          3,
          10,
          47,
          70,
          70,
          29,
          70,
          36,
          70,
          13,
          64,
          30,
          70,
          70,
          47,
          70,
          28,
          28,
          24,
          55,
          28,
          70,
          36,
          70,
          70,
          18,
          66,
          70,
          30,
          20,
          5,
          10,
          2,
          20,
          70,
          26,
          68,
          70,
          56,
          65,
          5,
          70,
          54,
          70,
          70,
          70,
          70,
          70,
          68,
          70,
          70,
          70,
          27,
          70,
          66,
          33,
          12,
          66,
          11,
          70,
          5,
          5,
          20,
          31,
          24,
          55,
          37,
          19,
          70,
          70,
          6,
          70,
          70,
          15,
          16,
          18,
          70,
          2,
          5,
          29,
          70,
          70,
          0,
          5,
          70,
          45,
          70,
          12,
          70,
          70,
          70,
          70,
          70,
          63,
          11,
          70,
          45,
          70,
          1,
          70,
          43,
          70,
          13,
          70,
          70,
          37,
          70,
          18,
          54,
          25,
          10,
          47,
          18,
          18,
          70,
          70,
          70,
          13,
          66,
          70,
          0,
          70,
          9,
          29,
          45,
          60,
          70,
          28,
          70,
          70,
          39,
          10,
          70,
          15,
          2,
          70
         ]
        }
       ],
       "layout": {
        "coloraxis": {
         "colorbar": {
          "title": {
           "text": "color"
          }
         },
         "colorscale": [
          [
           0,
           "#440154"
          ],
          [
           0.1111111111111111,
           "#482878"
          ],
          [
           0.2222222222222222,
           "#3e4989"
          ],
          [
           0.3333333333333333,
           "#31688e"
          ],
          [
           0.4444444444444444,
           "#26828e"
          ],
          [
           0.5555555555555556,
           "#1f9e89"
          ],
          [
           0.6666666666666666,
           "#35b779"
          ],
          [
           0.7777777777777778,
           "#6ece58"
          ],
          [
           0.8888888888888888,
           "#b5de2b"
          ],
          [
           1,
           "#fde725"
          ]
         ]
        },
        "legend": {
         "title": {
          "text": "symbol"
         },
         "tracegroupgap": 0
        },
        "margin": {
         "b": 0,
         "l": 0,
         "r": 0,
         "t": 0
        },
        "scene": {
         "domain": {
          "x": [
           0,
           1
          ],
          "y": [
           0,
           1
          ]
         },
         "xaxis": {
          "title": {
           "text": "x"
          }
         },
         "yaxis": {
          "title": {
           "text": "y"
          }
         },
         "zaxis": {
          "title": {
           "text": "z"
          }
         }
        },
        "template": {
         "data": {
          "bar": [
           {
            "error_x": {
             "color": "#2a3f5f"
            },
            "error_y": {
             "color": "#2a3f5f"
            },
            "marker": {
             "line": {
              "color": "#E5ECF6",
              "width": 0.5
             },
             "pattern": {
              "fillmode": "overlay",
              "size": 10,
              "solidity": 0.2
             }
            },
            "type": "bar"
           }
          ],
          "barpolar": [
           {
            "marker": {
             "line": {
              "color": "#E5ECF6",
              "width": 0.5
             },
             "pattern": {
              "fillmode": "overlay",
              "size": 10,
              "solidity": 0.2
             }
            },
            "type": "barpolar"
           }
          ],
          "carpet": [
           {
            "aaxis": {
             "endlinecolor": "#2a3f5f",
             "gridcolor": "white",
             "linecolor": "white",
             "minorgridcolor": "white",
             "startlinecolor": "#2a3f5f"
            },
            "baxis": {
             "endlinecolor": "#2a3f5f",
             "gridcolor": "white",
             "linecolor": "white",
             "minorgridcolor": "white",
             "startlinecolor": "#2a3f5f"
            },
            "type": "carpet"
           }
          ],
          "choropleth": [
           {
            "colorbar": {
             "outlinewidth": 0,
             "ticks": ""
            },
            "type": "choropleth"
           }
          ],
          "contour": [
           {
            "colorbar": {
             "outlinewidth": 0,
             "ticks": ""
            },
            "colorscale": [
             [
              0,
              "#0d0887"
             ],
             [
              0.1111111111111111,
              "#46039f"
             ],
             [
              0.2222222222222222,
              "#7201a8"
             ],
             [
              0.3333333333333333,
              "#9c179e"
             ],
             [
              0.4444444444444444,
              "#bd3786"
             ],
             [
              0.5555555555555556,
              "#d8576b"
             ],
             [
              0.6666666666666666,
              "#ed7953"
             ],
             [
              0.7777777777777778,
              "#fb9f3a"
             ],
             [
              0.8888888888888888,
              "#fdca26"
             ],
             [
              1,
              "#f0f921"
             ]
            ],
            "type": "contour"
           }
          ],
          "contourcarpet": [
           {
            "colorbar": {
             "outlinewidth": 0,
             "ticks": ""
            },
            "type": "contourcarpet"
           }
          ],
          "heatmap": [
           {
            "colorbar": {
             "outlinewidth": 0,
             "ticks": ""
            },
            "colorscale": [
             [
              0,
              "#0d0887"
             ],
             [
              0.1111111111111111,
              "#46039f"
             ],
             [
              0.2222222222222222,
              "#7201a8"
             ],
             [
              0.3333333333333333,
              "#9c179e"
             ],
             [
              0.4444444444444444,
              "#bd3786"
             ],
             [
              0.5555555555555556,
              "#d8576b"
             ],
             [
              0.6666666666666666,
              "#ed7953"
             ],
             [
              0.7777777777777778,
              "#fb9f3a"
             ],
             [
              0.8888888888888888,
              "#fdca26"
             ],
             [
              1,
              "#f0f921"
             ]
            ],
            "type": "heatmap"
           }
          ],
          "heatmapgl": [
           {
            "colorbar": {
             "outlinewidth": 0,
             "ticks": ""
            },
            "colorscale": [
             [
              0,
              "#0d0887"
             ],
             [
              0.1111111111111111,
              "#46039f"
             ],
             [
              0.2222222222222222,
              "#7201a8"
             ],
             [
              0.3333333333333333,
              "#9c179e"
             ],
             [
              0.4444444444444444,
              "#bd3786"
             ],
             [
              0.5555555555555556,
              "#d8576b"
             ],
             [
              0.6666666666666666,
              "#ed7953"
             ],
             [
              0.7777777777777778,
              "#fb9f3a"
             ],
             [
              0.8888888888888888,
              "#fdca26"
             ],
             [
              1,
              "#f0f921"
             ]
            ],
            "type": "heatmapgl"
           }
          ],
          "histogram": [
           {
            "marker": {
             "pattern": {
              "fillmode": "overlay",
              "size": 10,
              "solidity": 0.2
             }
            },
            "type": "histogram"
           }
          ],
          "histogram2d": [
           {
            "colorbar": {
             "outlinewidth": 0,
             "ticks": ""
            },
            "colorscale": [
             [
              0,
              "#0d0887"
             ],
             [
              0.1111111111111111,
              "#46039f"
             ],
             [
              0.2222222222222222,
              "#7201a8"
             ],
             [
              0.3333333333333333,
              "#9c179e"
             ],
             [
              0.4444444444444444,
              "#bd3786"
             ],
             [
              0.5555555555555556,
              "#d8576b"
             ],
             [
              0.6666666666666666,
              "#ed7953"
             ],
             [
              0.7777777777777778,
              "#fb9f3a"
             ],
             [
              0.8888888888888888,
              "#fdca26"
             ],
             [
              1,
              "#f0f921"
             ]
            ],
            "type": "histogram2d"
           }
          ],
          "histogram2dcontour": [
           {
            "colorbar": {
             "outlinewidth": 0,
             "ticks": ""
            },
            "colorscale": [
             [
              0,
              "#0d0887"
             ],
             [
              0.1111111111111111,
              "#46039f"
             ],
             [
              0.2222222222222222,
              "#7201a8"
             ],
             [
              0.3333333333333333,
              "#9c179e"
             ],
             [
              0.4444444444444444,
              "#bd3786"
             ],
             [
              0.5555555555555556,
              "#d8576b"
             ],
             [
              0.6666666666666666,
              "#ed7953"
             ],
             [
              0.7777777777777778,
              "#fb9f3a"
             ],
             [
              0.8888888888888888,
              "#fdca26"
             ],
             [
              1,
              "#f0f921"
             ]
            ],
            "type": "histogram2dcontour"
           }
          ],
          "mesh3d": [
           {
            "colorbar": {
             "outlinewidth": 0,
             "ticks": ""
            },
            "type": "mesh3d"
           }
          ],
          "parcoords": [
           {
            "line": {
             "colorbar": {
              "outlinewidth": 0,
              "ticks": ""
             }
            },
            "type": "parcoords"
           }
          ],
          "pie": [
           {
            "automargin": true,
            "type": "pie"
           }
          ],
          "scatter": [
           {
            "fillpattern": {
             "fillmode": "overlay",
             "size": 10,
             "solidity": 0.2
            },
            "type": "scatter"
           }
          ],
          "scatter3d": [
           {
            "line": {
             "colorbar": {
              "outlinewidth": 0,
              "ticks": ""
             }
            },
            "marker": {
             "colorbar": {
              "outlinewidth": 0,
              "ticks": ""
             }
            },
            "type": "scatter3d"
           }
          ],
          "scattercarpet": [
           {
            "marker": {
             "colorbar": {
              "outlinewidth": 0,
              "ticks": ""
             }
            },
            "type": "scattercarpet"
           }
          ],
          "scattergeo": [
           {
            "marker": {
             "colorbar": {
              "outlinewidth": 0,
              "ticks": ""
             }
            },
            "type": "scattergeo"
           }
          ],
          "scattergl": [
           {
            "marker": {
             "colorbar": {
              "outlinewidth": 0,
              "ticks": ""
             }
            },
            "type": "scattergl"
           }
          ],
          "scattermapbox": [
           {
            "marker": {
             "colorbar": {
              "outlinewidth": 0,
              "ticks": ""
             }
            },
            "type": "scattermapbox"
           }
          ],
          "scatterpolar": [
           {
            "marker": {
             "colorbar": {
              "outlinewidth": 0,
              "ticks": ""
             }
            },
            "type": "scatterpolar"
           }
          ],
          "scatterpolargl": [
           {
            "marker": {
             "colorbar": {
              "outlinewidth": 0,
              "ticks": ""
             }
            },
            "type": "scatterpolargl"
           }
          ],
          "scatterternary": [
           {
            "marker": {
             "colorbar": {
              "outlinewidth": 0,
              "ticks": ""
             }
            },
            "type": "scatterternary"
           }
          ],
          "surface": [
           {
            "colorbar": {
             "outlinewidth": 0,
             "ticks": ""
            },
            "colorscale": [
             [
              0,
              "#0d0887"
             ],
             [
              0.1111111111111111,
              "#46039f"
             ],
             [
              0.2222222222222222,
              "#7201a8"
             ],
             [
              0.3333333333333333,
              "#9c179e"
             ],
             [
              0.4444444444444444,
              "#bd3786"
             ],
             [
              0.5555555555555556,
              "#d8576b"
             ],
             [
              0.6666666666666666,
              "#ed7953"
             ],
             [
              0.7777777777777778,
              "#fb9f3a"
             ],
             [
              0.8888888888888888,
              "#fdca26"
             ],
             [
              1,
              "#f0f921"
             ]
            ],
            "type": "surface"
           }
          ],
          "table": [
           {
            "cells": {
             "fill": {
              "color": "#EBF0F8"
             },
             "line": {
              "color": "white"
             }
            },
            "header": {
             "fill": {
              "color": "#C8D4E3"
             },
             "line": {
              "color": "white"
             }
            },
            "type": "table"
           }
          ]
         },
         "layout": {
          "annotationdefaults": {
           "arrowcolor": "#2a3f5f",
           "arrowhead": 0,
           "arrowwidth": 1
          },
          "autotypenumbers": "strict",
          "coloraxis": {
           "colorbar": {
            "outlinewidth": 0,
            "ticks": ""
           }
          },
          "colorscale": {
           "diverging": [
            [
             0,
             "#8e0152"
            ],
            [
             0.1,
             "#c51b7d"
            ],
            [
             0.2,
             "#de77ae"
            ],
            [
             0.3,
             "#f1b6da"
            ],
            [
             0.4,
             "#fde0ef"
            ],
            [
             0.5,
             "#f7f7f7"
            ],
            [
             0.6,
             "#e6f5d0"
            ],
            [
             0.7,
             "#b8e186"
            ],
            [
             0.8,
             "#7fbc41"
            ],
            [
             0.9,
             "#4d9221"
            ],
            [
             1,
             "#276419"
            ]
           ],
           "sequential": [
            [
             0,
             "#0d0887"
            ],
            [
             0.1111111111111111,
             "#46039f"
            ],
            [
             0.2222222222222222,
             "#7201a8"
            ],
            [
             0.3333333333333333,
             "#9c179e"
            ],
            [
             0.4444444444444444,
             "#bd3786"
            ],
            [
             0.5555555555555556,
             "#d8576b"
            ],
            [
             0.6666666666666666,
             "#ed7953"
            ],
            [
             0.7777777777777778,
             "#fb9f3a"
            ],
            [
             0.8888888888888888,
             "#fdca26"
            ],
            [
             1,
             "#f0f921"
            ]
           ],
           "sequentialminus": [
            [
             0,
             "#0d0887"
            ],
            [
             0.1111111111111111,
             "#46039f"
            ],
            [
             0.2222222222222222,
             "#7201a8"
            ],
            [
             0.3333333333333333,
             "#9c179e"
            ],
            [
             0.4444444444444444,
             "#bd3786"
            ],
            [
             0.5555555555555556,
             "#d8576b"
            ],
            [
             0.6666666666666666,
             "#ed7953"
            ],
            [
             0.7777777777777778,
             "#fb9f3a"
            ],
            [
             0.8888888888888888,
             "#fdca26"
            ],
            [
             1,
             "#f0f921"
            ]
           ]
          },
          "colorway": [
           "#636efa",
           "#EF553B",
           "#00cc96",
           "#ab63fa",
           "#FFA15A",
           "#19d3f3",
           "#FF6692",
           "#B6E880",
           "#FF97FF",
           "#FECB52"
          ],
          "font": {
           "color": "#2a3f5f"
          },
          "geo": {
           "bgcolor": "white",
           "lakecolor": "white",
           "landcolor": "#E5ECF6",
           "showlakes": true,
           "showland": true,
           "subunitcolor": "white"
          },
          "hoverlabel": {
           "align": "left"
          },
          "hovermode": "closest",
          "mapbox": {
           "style": "light"
          },
          "paper_bgcolor": "white",
          "plot_bgcolor": "#E5ECF6",
          "polar": {
           "angularaxis": {
            "gridcolor": "white",
            "linecolor": "white",
            "ticks": ""
           },
           "bgcolor": "#E5ECF6",
           "radialaxis": {
            "gridcolor": "white",
            "linecolor": "white",
            "ticks": ""
           }
          },
          "scene": {
           "xaxis": {
            "backgroundcolor": "#E5ECF6",
            "gridcolor": "white",
            "gridwidth": 2,
            "linecolor": "white",
            "showbackground": true,
            "ticks": "",
            "zerolinecolor": "white"
           },
           "yaxis": {
            "backgroundcolor": "#E5ECF6",
            "gridcolor": "white",
            "gridwidth": 2,
            "linecolor": "white",
            "showbackground": true,
            "ticks": "",
            "zerolinecolor": "white"
           },
           "zaxis": {
            "backgroundcolor": "#E5ECF6",
            "gridcolor": "white",
            "gridwidth": 2,
            "linecolor": "white",
            "showbackground": true,
            "ticks": "",
            "zerolinecolor": "white"
           }
          },
          "shapedefaults": {
           "line": {
            "color": "#2a3f5f"
           }
          },
          "ternary": {
           "aaxis": {
            "gridcolor": "white",
            "linecolor": "white",
            "ticks": ""
           },
           "baxis": {
            "gridcolor": "white",
            "linecolor": "white",
            "ticks": ""
           },
           "bgcolor": "#E5ECF6",
           "caxis": {
            "gridcolor": "white",
            "linecolor": "white",
            "ticks": ""
           }
          },
          "title": {
           "x": 0.05
          },
          "xaxis": {
           "automargin": true,
           "gridcolor": "white",
           "linecolor": "white",
           "ticks": "",
           "title": {
            "standoff": 15
           },
           "zerolinecolor": "white",
           "zerolinewidth": 2
          },
          "yaxis": {
           "automargin": true,
           "gridcolor": "white",
           "linecolor": "white",
           "ticks": "",
           "title": {
            "standoff": 15
           },
           "zerolinecolor": "white",
           "zerolinewidth": 2
          }
         }
        }
       }
      }
     },
     "metadata": {},
     "output_type": "display_data"
    }
   ],
   "source": [
    "fig = px.scatter_3d(\n",
    "    x=df['Stars'][0:1000],\n",
    "    y=df['Forks'][0:1000],\n",
    "    z=df['Issues'][0:1000],\n",
    "    color=pred_km[0:1000],\n",
    "    color_continuous_scale='viridis',\n",
    "    symbol=pred_km[0:1000],\n",
    "    opacity=0.8\n",
    ")\n",
    "\n",
    "fig.update_layout(margin=dict(l=0,r=0,b=0,t=0))\n",
    "fig.show()"
   ]
  },
  {
   "cell_type": "markdown",
   "metadata": {},
   "source": [
    "# Supervised"
   ]
  },
  {
   "cell_type": "code",
   "execution_count": 48,
   "metadata": {},
   "outputs": [
    {
     "name": "stdout",
     "output_type": "stream",
     "text": [
      "<class 'pandas.core.frame.DataFrame'>\n",
      "Index: 48015 entries, 151491 to 561\n",
      "Data columns (total 15 columns):\n",
      " #   Column          Non-Null Count  Dtype  \n",
      "---  ------          --------------  -----  \n",
      " 0   Size            48015 non-null  int64  \n",
      " 1   Stars           48015 non-null  int64  \n",
      " 2   Forks           48015 non-null  int64  \n",
      " 3   Issues          48015 non-null  int64  \n",
      " 4   HasIssues       48015 non-null  int64  \n",
      " 5   HasDownloads    48015 non-null  int64  \n",
      " 6   HasWiki         48015 non-null  int64  \n",
      " 7   HasPages        48015 non-null  int64  \n",
      " 8   HasDiscussions  48015 non-null  int64  \n",
      " 9   DescSize        48015 non-null  float64\n",
      " 10  Maintained      48015 non-null  int64  \n",
      " 11  Age             48015 non-null  int64  \n",
      " 12  IsPopularLang   48015 non-null  int64  \n",
      " 13  popular_score   48015 non-null  float64\n",
      " 14  Popular         48015 non-null  float64\n",
      "dtypes: float64(3), int64(12)\n",
      "memory usage: 5.9 MB\n"
     ]
    }
   ],
   "source": [
    "df.info()"
   ]
  },
  {
   "cell_type": "code",
   "execution_count": 49,
   "metadata": {},
   "outputs": [],
   "source": [
    "Y = df['Popular']\n",
    "X = df.drop(['Popular','popular_score'],axis=1)"
   ]
  },
  {
   "cell_type": "code",
   "execution_count": 51,
   "metadata": {},
   "outputs": [
    {
     "data": {
      "text/plain": [
       "(48015, 13)"
      ]
     },
     "execution_count": 51,
     "metadata": {},
     "output_type": "execute_result"
    }
   ],
   "source": [
    "X.shape"
   ]
  },
  {
   "cell_type": "code",
   "execution_count": 52,
   "metadata": {},
   "outputs": [
    {
     "data": {
      "text/html": [
       "<div>\n",
       "<style scoped>\n",
       "    .dataframe tbody tr th:only-of-type {\n",
       "        vertical-align: middle;\n",
       "    }\n",
       "\n",
       "    .dataframe tbody tr th {\n",
       "        vertical-align: top;\n",
       "    }\n",
       "\n",
       "    .dataframe thead th {\n",
       "        text-align: right;\n",
       "    }\n",
       "</style>\n",
       "<table border=\"1\" class=\"dataframe\">\n",
       "  <thead>\n",
       "    <tr style=\"text-align: right;\">\n",
       "      <th></th>\n",
       "      <th>0</th>\n",
       "      <th>1</th>\n",
       "    </tr>\n",
       "  </thead>\n",
       "  <tbody>\n",
       "    <tr>\n",
       "      <th>2</th>\n",
       "      <td>Forks</td>\n",
       "      <td>4963.245232</td>\n",
       "    </tr>\n",
       "    <tr>\n",
       "      <th>1</th>\n",
       "      <td>Stars</td>\n",
       "      <td>3985.621177</td>\n",
       "    </tr>\n",
       "    <tr>\n",
       "      <th>3</th>\n",
       "      <td>Issues</td>\n",
       "      <td>1215.341364</td>\n",
       "    </tr>\n",
       "    <tr>\n",
       "      <th>0</th>\n",
       "      <td>Size</td>\n",
       "      <td>446.563049</td>\n",
       "    </tr>\n",
       "    <tr>\n",
       "      <th>4</th>\n",
       "      <td>HasIssues</td>\n",
       "      <td>160.590575</td>\n",
       "    </tr>\n",
       "    <tr>\n",
       "      <th>10</th>\n",
       "      <td>Maintained</td>\n",
       "      <td>158.256742</td>\n",
       "    </tr>\n",
       "    <tr>\n",
       "      <th>11</th>\n",
       "      <td>Age</td>\n",
       "      <td>107.989024</td>\n",
       "    </tr>\n",
       "    <tr>\n",
       "      <th>12</th>\n",
       "      <td>IsPopularLang</td>\n",
       "      <td>64.227718</td>\n",
       "    </tr>\n",
       "    <tr>\n",
       "      <th>7</th>\n",
       "      <td>HasPages</td>\n",
       "      <td>49.844207</td>\n",
       "    </tr>\n",
       "    <tr>\n",
       "      <th>8</th>\n",
       "      <td>HasDiscussions</td>\n",
       "      <td>49.293343</td>\n",
       "    </tr>\n",
       "    <tr>\n",
       "      <th>6</th>\n",
       "      <td>HasWiki</td>\n",
       "      <td>37.750920</td>\n",
       "    </tr>\n",
       "    <tr>\n",
       "      <th>5</th>\n",
       "      <td>HasDownloads</td>\n",
       "      <td>22.746620</td>\n",
       "    </tr>\n",
       "    <tr>\n",
       "      <th>9</th>\n",
       "      <td>DescSize</td>\n",
       "      <td>1.910994</td>\n",
       "    </tr>\n",
       "  </tbody>\n",
       "</table>\n",
       "</div>"
      ],
      "text/plain": [
       "                 0            1\n",
       "2            Forks  4963.245232\n",
       "1            Stars  3985.621177\n",
       "3           Issues  1215.341364\n",
       "0             Size   446.563049\n",
       "4        HasIssues   160.590575\n",
       "10      Maintained   158.256742\n",
       "11             Age   107.989024\n",
       "12   IsPopularLang    64.227718\n",
       "7         HasPages    49.844207\n",
       "8   HasDiscussions    49.293343\n",
       "6          HasWiki    37.750920\n",
       "5     HasDownloads    22.746620\n",
       "9         DescSize     1.910994"
      ]
     },
     "execution_count": 52,
     "metadata": {},
     "output_type": "execute_result"
    }
   ],
   "source": [
    "from sklearn.feature_selection import SelectKBest\n",
    "bf = SelectKBest()\n",
    "bf_fit = pd.DataFrame(bf.fit(X,Y).scores_)\n",
    "\n",
    "bf_scores = pd.concat([pd.DataFrame(X.columns),bf_fit],axis=1,ignore_index=True)\n",
    "bf_scores.sort_values(by=1,ascending=False)"
   ]
  },
  {
   "cell_type": "code",
   "execution_count": 113,
   "metadata": {},
   "outputs": [
    {
     "data": {
      "text/plain": [
       "(48015, 8)"
      ]
     },
     "execution_count": 113,
     "metadata": {},
     "output_type": "execute_result"
    }
   ],
   "source": [
    "X2 = df.drop(['Popular','popular_score','DescSize','HasDownloads','HasWiki','HasDiscussions','HasPages'],axis=1)\n",
    "X2.shape"
   ]
  },
  {
   "cell_type": "code",
   "execution_count": 93,
   "metadata": {},
   "outputs": [],
   "source": [
    "from sklearn.model_selection import train_test_split\n",
    "X_train,X_test,Y_train,Y_test = train_test_split(X,Y,test_size=0.2,random_state=101)\n",
    "X2_train,X2_test,Y2_train,Y2_test = train_test_split(X2,Y,test_size=0.2,random_state=102)"
   ]
  },
  {
   "cell_type": "code",
   "execution_count": 94,
   "metadata": {},
   "outputs": [],
   "source": [
    "# Scaling\n",
    "\n",
    "from sklearn.preprocessing import StandardScaler,MinMaxScaler\n",
    "# scaler = MinMaxScaler(feature_range=(-10,10))\n",
    "scaler = StandardScaler()\n",
    "X_train = pd.DataFrame(scaler.fit_transform(X_train))\n",
    "X_test = scaler.transform(X_test)\n",
    "\n",
    "X2_train = pd.DataFrame(scaler.fit_transform(X2_train))\n",
    "X2_test = scaler.transform(X2_test)"
   ]
  },
  {
   "cell_type": "code",
   "execution_count": 74,
   "metadata": {},
   "outputs": [],
   "source": [
    "from sklearn.metrics import confusion_matrix,accuracy_score,classification_report"
   ]
  },
  {
   "cell_type": "code",
   "execution_count": 116,
   "metadata": {},
   "outputs": [],
   "source": [
    "performance =[]"
   ]
  },
  {
   "cell_type": "markdown",
   "metadata": {},
   "source": [
    "## Random Forest"
   ]
  },
  {
   "cell_type": "code",
   "execution_count": 75,
   "metadata": {},
   "outputs": [],
   "source": [
    "from sklearn.ensemble import RandomForestClassifier"
   ]
  },
  {
   "cell_type": "code",
   "execution_count": 76,
   "metadata": {},
   "outputs": [],
   "source": [
    "parameters_rf_1 = {\n",
    "    \"n_estimators\" : [10, 20, 50, 100, 120, 150, 200, 250, 300, 350, 400, 500],\n",
    "    \"criterion\" : ['gini', 'entropy'],\n",
    "    \"max_depth\" : [3, 4, 5, 6, 7],\n",
    "    \"min_samples_split\" : [2, 3]\n",
    "}"
   ]
  },
  {
   "cell_type": "code",
   "execution_count": 117,
   "metadata": {},
   "outputs": [
    {
     "name": "stdout",
     "output_type": "stream",
     "text": [
      "Accuracy:  98.13599916692701\n",
      "Confusion Matrix: \n",
      " [[4763   62]\n",
      " [ 117 4661]]\n",
      "................................\n",
      "Classification report \n",
      ":                precision    recall  f1-score   support\n",
      "\n",
      "         0.0       0.98      0.99      0.98      4825\n",
      "         1.0       0.99      0.98      0.98      4778\n",
      "\n",
      "    accuracy                           0.98      9603\n",
      "   macro avg       0.98      0.98      0.98      9603\n",
      "weighted avg       0.98      0.98      0.98      9603\n",
      "\n"
     ]
    }
   ],
   "source": [
    "rf_model = RandomForestClassifier()\n",
    "rf_model.fit(X_train,Y_train)\n",
    "rf_pred_test = rf_model.predict(X_test)\n",
    "\n",
    "cm_rf = confusion_matrix(Y_test, rf_pred_test)\n",
    "print(\"Accuracy: \",accuracy_score(Y_test,rf_pred_test)*100)\n",
    "print(\"Confusion Matrix: \\n\", cm_rf)\n",
    "print(\"................................\")\n",
    "print(\"Classification report \\n: \", classification_report(Y_test, rf_pred_test))"
   ]
  },
  {
   "cell_type": "code",
   "execution_count": 96,
   "metadata": {},
   "outputs": [
    {
     "name": "stdout",
     "output_type": "stream",
     "text": [
      "Accuracy:  98.38592106633344\n",
      "Confusion Matrix: \n",
      " [[4747   51]\n",
      " [ 104 4701]]\n",
      "................................\n",
      "Classification report \n",
      ":                precision    recall  f1-score   support\n",
      "\n",
      "         0.0       0.98      0.99      0.98      4798\n",
      "         1.0       0.99      0.98      0.98      4805\n",
      "\n",
      "    accuracy                           0.98      9603\n",
      "   macro avg       0.98      0.98      0.98      9603\n",
      "weighted avg       0.98      0.98      0.98      9603\n",
      "\n"
     ]
    }
   ],
   "source": [
    "rf_model = RandomForestClassifier()\n",
    "rf_model.fit(X2_train,Y2_train)\n",
    "rf_pred_test = rf_model.predict(X2_test)\n",
    "\n",
    "cm_rf = confusion_matrix(Y2_test, rf_pred_test)\n",
    "\n",
    "print(\"Accuracy: \",accuracy_score(Y2_test,rf_pred_test)*100)\n",
    "print(\"Confusion Matrix: \\n\", cm_rf)\n",
    "print(\"................................\")\n",
    "print(\"Classification report \\n: \", classification_report(Y2_test, rf_pred_test))"
   ]
  },
  {
   "cell_type": "markdown",
   "metadata": {},
   "source": [
    "## XGBoost"
   ]
  },
  {
   "cell_type": "code",
   "execution_count": 97,
   "metadata": {},
   "outputs": [],
   "source": [
    "from xgboost import XGBClassifier"
   ]
  },
  {
   "cell_type": "code",
   "execution_count": 99,
   "metadata": {},
   "outputs": [
    {
     "name": "stdout",
     "output_type": "stream",
     "text": [
      "Accuracy:  99.21899406435489\n",
      "Confusion Matrix: \n",
      " [[4791   34]\n",
      " [  41 4737]]\n",
      "................................\n",
      "Classification report \n",
      ":                precision    recall  f1-score   support\n",
      "\n",
      "         0.0       0.99      0.99      0.99      4825\n",
      "         1.0       0.99      0.99      0.99      4778\n",
      "\n",
      "    accuracy                           0.99      9603\n",
      "   macro avg       0.99      0.99      0.99      9603\n",
      "weighted avg       0.99      0.99      0.99      9603\n",
      "\n"
     ]
    }
   ],
   "source": [
    "xgb = XGBClassifier(random_state=1119)\n",
    "xgb.fit(X_train,Y_train)\n",
    "xgb_pred_test = xgb.predict(X_test)\n",
    "\n",
    "\n",
    "cm_xgb = confusion_matrix(Y_test, xgb_pred_test)\n",
    "\n",
    "print(\"Accuracy: \",accuracy_score(Y_test,xgb_pred_test)*100)\n",
    "print(\"Confusion Matrix: \\n\", cm_xgb)\n",
    "print(\"................................\")\n",
    "print(\"Classification report \\n: \", classification_report(Y_test, xgb_pred_test))"
   ]
  },
  {
   "cell_type": "code",
   "execution_count": 104,
   "metadata": {},
   "outputs": [
    {
     "name": "stdout",
     "output_type": "stream",
     "text": [
      "Accuracy:  99.2814745392065\n",
      "Confusion Matrix: \n",
      " [[4767   31]\n",
      " [  38 4767]]\n",
      "................................\n",
      "Classification report \n",
      ":                precision    recall  f1-score   support\n",
      "\n",
      "         0.0       0.99      0.99      0.99      4798\n",
      "         1.0       0.99      0.99      0.99      4805\n",
      "\n",
      "    accuracy                           0.99      9603\n",
      "   macro avg       0.99      0.99      0.99      9603\n",
      "weighted avg       0.99      0.99      0.99      9603\n",
      "\n"
     ]
    }
   ],
   "source": [
    "xgb = XGBClassifier(random_state=1119)\n",
    "xgb.fit(X2_train,Y2_train)\n",
    "xgb_pred_test = xgb.predict(X2_test)\n",
    "\n",
    "\n",
    "cm_xgb = confusion_matrix(Y2_test, xgb_pred_test)\n",
    "\n",
    "print(\"Accuracy: \",accuracy_score(Y2_test,xgb_pred_test)*100)\n",
    "print(\"Confusion Matrix: \\n\", cm_xgb)\n",
    "print(\"................................\")\n",
    "print(\"Classification report \\n: \", classification_report(Y2_test, xgb_pred_test))"
   ]
  },
  {
   "cell_type": "markdown",
   "metadata": {},
   "source": [
    "## Logistic Regression"
   ]
  },
  {
   "cell_type": "code",
   "execution_count": 105,
   "metadata": {},
   "outputs": [],
   "source": [
    "from sklearn.linear_model import LogisticRegression"
   ]
  },
  {
   "cell_type": "code",
   "execution_count": 106,
   "metadata": {},
   "outputs": [
    {
     "name": "stdout",
     "output_type": "stream",
     "text": [
      "Accuracy:  68.77017598667084\n",
      "Confusion Matrix: \n",
      " [[2654 2171]\n",
      " [ 828 3950]]\n",
      "................................\n",
      "Classification report \n",
      ":                precision    recall  f1-score   support\n",
      "\n",
      "         0.0       0.76      0.55      0.64      4825\n",
      "         1.0       0.65      0.83      0.72      4778\n",
      "\n",
      "    accuracy                           0.69      9603\n",
      "   macro avg       0.70      0.69      0.68      9603\n",
      "weighted avg       0.70      0.69      0.68      9603\n",
      "\n"
     ]
    }
   ],
   "source": [
    "lr = LogisticRegression()\n",
    "lr.fit(X_train,Y_train)\n",
    "\n",
    "lr_pred = lr.predict(X_test)\n",
    "\n",
    "cm_lr = confusion_matrix(Y_test, lr_pred)\n",
    "\n",
    "print(\"Accuracy: \",accuracy_score(Y_test,lr_pred)*100)\n",
    "print(\"Confusion Matrix: \\n\", cm_lr)\n",
    "print(\"................................\")\n",
    "print(\"Classification report \\n: \", classification_report(Y_test, lr_pred))"
   ]
  },
  {
   "cell_type": "code",
   "execution_count": 107,
   "metadata": {},
   "outputs": [
    {
     "name": "stdout",
     "output_type": "stream",
     "text": [
      "Accuracy:  69.64490263459335\n",
      "Confusion Matrix: \n",
      " [[2696 2102]\n",
      " [ 813 3992]]\n",
      "................................\n",
      "Classification report \n",
      ":                precision    recall  f1-score   support\n",
      "\n",
      "         0.0       0.77      0.56      0.65      4798\n",
      "         1.0       0.66      0.83      0.73      4805\n",
      "\n",
      "    accuracy                           0.70      9603\n",
      "   macro avg       0.71      0.70      0.69      9603\n",
      "weighted avg       0.71      0.70      0.69      9603\n",
      "\n"
     ]
    }
   ],
   "source": [
    "lr = LogisticRegression()\n",
    "lr.fit(X2_train,Y2_train)\n",
    "\n",
    "lr_pred = lr.predict(X2_test)\n",
    "\n",
    "cm_lr = confusion_matrix(Y2_test, lr_pred)\n",
    "\n",
    "print(\"Accuracy: \",accuracy_score(Y2_test,lr_pred)*100)\n",
    "print(\"Confusion Matrix: \\n\", cm_lr)\n",
    "print(\"................................\")\n",
    "print(\"Classification report \\n: \", classification_report(Y2_test, lr_pred))"
   ]
  },
  {
   "cell_type": "markdown",
   "metadata": {},
   "source": [
    "## ADABoost"
   ]
  },
  {
   "cell_type": "code",
   "execution_count": 108,
   "metadata": {},
   "outputs": [],
   "source": [
    "from sklearn.ensemble import AdaBoostClassifier"
   ]
  },
  {
   "cell_type": "code",
   "execution_count": 109,
   "metadata": {},
   "outputs": [
    {
     "name": "stderr",
     "output_type": "stream",
     "text": [
      "d:\\Uzair\\1 Projects\\GitRepo-Analysis\\env\\Lib\\site-packages\\sklearn\\ensemble\\_weight_boosting.py:519: FutureWarning:\n",
      "\n",
      "The SAMME.R algorithm (the default) is deprecated and will be removed in 1.6. Use the SAMME algorithm to circumvent this warning.\n",
      "\n"
     ]
    },
    {
     "name": "stdout",
     "output_type": "stream",
     "text": [
      "Accuracy:  80.39154430907008\n",
      "Confusion Matrix: \n",
      " [[3933  892]\n",
      " [ 991 3787]]\n",
      "................................\n",
      "Classification report \n",
      ":                precision    recall  f1-score   support\n",
      "\n",
      "         0.0       0.80      0.82      0.81      4825\n",
      "         1.0       0.81      0.79      0.80      4778\n",
      "\n",
      "    accuracy                           0.80      9603\n",
      "   macro avg       0.80      0.80      0.80      9603\n",
      "weighted avg       0.80      0.80      0.80      9603\n",
      "\n"
     ]
    }
   ],
   "source": [
    "adab = AdaBoostClassifier()\n",
    "adab.fit(X_train,Y_train)\n",
    "adab_pred = adab.predict(X_test)\n",
    "cm_adab = confusion_matrix(Y_test,adab_pred)\n",
    "print(\"Accuracy: \",accuracy_score(Y_test,adab_pred)*100)\n",
    "print(\"Confusion Matrix: \\n\", cm_adab)\n",
    "print(\"................................\")\n",
    "print(\"Classification report \\n: \", classification_report(Y_test, adab_pred))"
   ]
  },
  {
   "cell_type": "code",
   "execution_count": 110,
   "metadata": {},
   "outputs": [
    {
     "name": "stderr",
     "output_type": "stream",
     "text": [
      "d:\\Uzair\\1 Projects\\GitRepo-Analysis\\env\\Lib\\site-packages\\sklearn\\ensemble\\_weight_boosting.py:519: FutureWarning:\n",
      "\n",
      "The SAMME.R algorithm (the default) is deprecated and will be removed in 1.6. Use the SAMME algorithm to circumvent this warning.\n",
      "\n"
     ]
    },
    {
     "name": "stdout",
     "output_type": "stream",
     "text": [
      "Accuracy:  79.95418098510882\n",
      "Confusion Matrix: \n",
      " [[3919  879]\n",
      " [1046 3759]]\n",
      "................................\n",
      "Classification report \n",
      ":                precision    recall  f1-score   support\n",
      "\n",
      "         0.0       0.79      0.82      0.80      4798\n",
      "         1.0       0.81      0.78      0.80      4805\n",
      "\n",
      "    accuracy                           0.80      9603\n",
      "   macro avg       0.80      0.80      0.80      9603\n",
      "weighted avg       0.80      0.80      0.80      9603\n",
      "\n"
     ]
    }
   ],
   "source": [
    "adab = AdaBoostClassifier()\n",
    "adab.fit(X2_train,Y2_train)\n",
    "adab_pred = adab.predict(X2_test)\n",
    "cm_adab = confusion_matrix(Y2_test,adab_pred)\n",
    "print(\"Accuracy: \",accuracy_score(Y2_test,adab_pred)*100)\n",
    "print(\"Confusion Matrix: \\n\", cm_adab)\n",
    "print(\"................................\")\n",
    "print(\"Classification report \\n: \", classification_report(Y2_test, adab_pred))"
   ]
  },
  {
   "cell_type": "markdown",
   "metadata": {},
   "source": [
    "## SVM"
   ]
  },
  {
   "cell_type": "code",
   "execution_count": 111,
   "metadata": {},
   "outputs": [],
   "source": [
    "from sklearn.svm import SVC"
   ]
  },
  {
   "cell_type": "code",
   "execution_count": 68,
   "metadata": {},
   "outputs": [
    {
     "name": "stdout",
     "output_type": "stream",
     "text": [
      "Accuracy:  93.81443298969072\n",
      "Confusion Matrix: \n",
      " [[4457  368]\n",
      " [ 226 4552]]\n",
      "................................\n",
      "Classification report \n",
      ":                precision    recall  f1-score   support\n",
      "\n",
      "         0.0       0.95      0.92      0.94      4825\n",
      "         1.0       0.93      0.95      0.94      4778\n",
      "\n",
      "    accuracy                           0.94      9603\n",
      "   macro avg       0.94      0.94      0.94      9603\n",
      "weighted avg       0.94      0.94      0.94      9603\n",
      "\n"
     ]
    }
   ],
   "source": [
    "sv = SVC(kernel='rbf',random_state=42)\n",
    "sv.fit(X_train,Y_train)\n",
    "sv_pred = sv.predict(X_test)\n",
    "cm_sv = confusion_matrix(Y_test,sv_pred)\n",
    "print(\"Accuracy: \",accuracy_score(Y_test,sv_pred)*100)\n",
    "print(\"Confusion Matrix: \\n\", cm_sv)\n",
    "print(\"................................\")\n",
    "print(\"Classification report \\n: \", classification_report(Y_test, sv_pred))"
   ]
  },
  {
   "cell_type": "code",
   "execution_count": 112,
   "metadata": {},
   "outputs": [
    {
     "name": "stdout",
     "output_type": "stream",
     "text": [
      "Accuracy:  96.16786420910132\n",
      "Confusion Matrix: \n",
      " [[4573  225]\n",
      " [ 143 4662]]\n",
      "................................\n",
      "Classification report \n",
      ":                precision    recall  f1-score   support\n",
      "\n",
      "         0.0       0.97      0.95      0.96      4798\n",
      "         1.0       0.95      0.97      0.96      4805\n",
      "\n",
      "    accuracy                           0.96      9603\n",
      "   macro avg       0.96      0.96      0.96      9603\n",
      "weighted avg       0.96      0.96      0.96      9603\n",
      "\n"
     ]
    }
   ],
   "source": [
    "sv = SVC(kernel='rbf',random_state=42)\n",
    "sv.fit(X2_train,Y2_train)\n",
    "sv_pred = sv.predict(X2_test)\n",
    "cm_sv = confusion_matrix(Y2_test,sv_pred)\n",
    "print(\"Accuracy: \",accuracy_score(Y2_test,sv_pred)*100)\n",
    "print(\"Confusion Matrix: \\n\", cm_sv)\n",
    "print(\"................................\")\n",
    "print(\"Classification report \\n: \", classification_report(Y2_test, sv_pred))"
   ]
  },
  {
   "cell_type": "markdown",
   "metadata": {},
   "source": [
    "---\n",
    "# Conclusion"
   ]
  },
  {
   "cell_type": "markdown",
   "metadata": {},
   "source": [
    "---"
   ]
  }
 ],
 "metadata": {
  "kernelspec": {
   "display_name": "env",
   "language": "python",
   "name": "python3"
  },
  "language_info": {
   "codemirror_mode": {
    "name": "ipython",
    "version": 3
   },
   "file_extension": ".py",
   "mimetype": "text/x-python",
   "name": "python",
   "nbconvert_exporter": "python",
   "pygments_lexer": "ipython3",
   "version": "3.11.1"
  }
 },
 "nbformat": 4,
 "nbformat_minor": 2
}
